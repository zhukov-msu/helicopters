{
 "cells": [
  {
   "cell_type": "markdown",
   "metadata": {
    "deletable": true,
    "editable": true
   },
   "source": [
    "# Исследование данных по расположению санитарной авиации в России"
   ]
  },
  {
   "cell_type": "markdown",
   "metadata": {
    "deletable": true,
    "editable": true
   },
   "source": [
    "### Используемые библиотеки"
   ]
  },
  {
   "cell_type": "code",
   "execution_count": 152,
   "metadata": {
    "collapsed": false,
    "deletable": true,
    "editable": true,
    "scrolled": true
   },
   "outputs": [],
   "source": [
    "import pandas as pd\n",
    "import numpy as np\n",
    "import matplotlib.pyplot as plt\n",
    "import seaborn as sns\n",
    "import os\n",
    "import gmaps as jupgmaps\n",
    "from datetime import datetime\n",
    "import matplotlib\n",
    "%matplotlib inline\n",
    "import json\n",
    "import requests\n",
    "from osmapi import OsmApi\n",
    "import geopy\n",
    "from geopy.distance import vincenty\n",
    "import math\n",
    "from tqdm import tqdm\n",
    "from sklearn.preprocessing import MinMaxScaler, StandardScaler\n",
    "import googlemaps as gmaps\n",
    "import gmaps.geojson_geometries\n",
    "import transliterate\n",
    "import geojson_utils\n",
    "pd.options.display.max_rows = 100"
   ]
  },
  {
   "cell_type": "code",
   "execution_count": 153,
   "metadata": {
    "collapsed": false,
    "deletable": true,
    "editable": true
   },
   "outputs": [],
   "source": [
    "api_key = os.environ[\"GOOGLE_API_KEY\"]\n",
    "gmaps = googlemaps.Client(key=api_key)\n",
    "jupgmaps.configure(api_key=api_key)"
   ]
  },
  {
   "cell_type": "code",
   "execution_count": 154,
   "metadata": {
    "collapsed": false,
    "deletable": true,
    "editable": true
   },
   "outputs": [],
   "source": [
    "def get_coord(points): # на вход массив строковых названий\n",
    "    data_json = []\n",
    "    for adr in tqdm(list(points)):\n",
    "        data_json += [gmaps.geocode('Россия, ' + adr)]\n",
    "    data_coord = []\n",
    "    for i, js in enumerate(data_json):\n",
    "        if js:\n",
    "            try:\n",
    "                coord = js[0]['geometry']['location']\n",
    "                data_coord += [(coord['lat'], coord['lng'])]\n",
    "            except Exception as e:\n",
    "                data_coord += [(None, None)]\n",
    "        else:\n",
    "            data_coord += [(None, None)]\n",
    "    return data_coord"
   ]
  },
  {
   "cell_type": "code",
   "execution_count": 137,
   "metadata": {
    "collapsed": true,
    "deletable": true,
    "editable": true
   },
   "outputs": [],
   "source": [
    "with open('data/regions_russia1.geojson', 'r') as f:\n",
    "    georussia = json.load(f)\n",
    "def get_region(point):\n",
    "    if isinstance(point, pd.Series):\n",
    "        lat = point['lat']\n",
    "        lon = point['lon']\n",
    "    elif isinstance(point, tuple) or isinstance(point, list):\n",
    "        lat = point[0]\n",
    "        lon = point[1]\n",
    "    p = {\"type\": \"Point\", \"coordinates\": [lon, lat]}\n",
    "    for region in georussia['features']:\n",
    "        if geojson_utils.point_in_multipolygon(p, region['geometry']):\n",
    "            return region['gibdd_code']\n",
    "    return None"
   ]
  },
  {
   "cell_type": "markdown",
   "metadata": {
    "deletable": true,
    "editable": true
   },
   "source": [
    "### Расчет плотности по областям\n",
    "возможно уже не надо"
   ]
  },
  {
   "cell_type": "code",
   "execution_count": 418,
   "metadata": {
    "collapsed": false,
    "deletable": true,
    "editable": true
   },
   "outputs": [],
   "source": [
    "dens = pd.read_csv('data/plotn1.csv', encoding='utf-8', sep=';', header=None)\n",
    "del dens[0]\n",
    "dens.columns = ['obl', 'dens', 'people', 'S', 'FO', 'city']"
   ]
  },
  {
   "cell_type": "code",
   "execution_count": 420,
   "metadata": {
    "collapsed": false,
    "deletable": true,
    "editable": true
   },
   "outputs": [],
   "source": [
    "dens = dens.reset_index()\n",
    "del dens['index']"
   ]
  },
  {
   "cell_type": "code",
   "execution_count": 426,
   "metadata": {
    "collapsed": true,
    "deletable": true,
    "editable": true
   },
   "outputs": [],
   "source": [
    "pd.options.display.max_rows = 100"
   ]
  },
  {
   "cell_type": "code",
   "execution_count": 204,
   "metadata": {
    "collapsed": false,
    "deletable": true,
    "editable": true
   },
   "outputs": [
    {
     "name": "stderr",
     "output_type": "stream",
     "text": [
      "100%|██████████| 85/85 [00:08<00:00, 10.38it/s]\n"
     ]
    }
   ],
   "source": [
    "oblast_coord = get_coord(dens)"
   ]
  },
  {
   "cell_type": "code",
   "execution_count": 181,
   "metadata": {
    "collapsed": false,
    "deletable": true,
    "editable": true
   },
   "outputs": [],
   "source": [
    "df = pd.DataFrame(oblast_coord)\n",
    "df['dens'] = dens.dens\n",
    "df['obl'] = dens.obl\n",
    "df.dens = df.dens.apply(lambda x: float(x.replace(',','.')))"
   ]
  },
  {
   "cell_type": "code",
   "execution_count": 289,
   "metadata": {
    "collapsed": true,
    "deletable": true,
    "editable": true
   },
   "outputs": [],
   "source": [
    "scaler = MinMaxScaler()"
   ]
  },
  {
   "cell_type": "code",
   "execution_count": null,
   "metadata": {
    "collapsed": false,
    "deletable": true,
    "editable": true
   },
   "outputs": [],
   "source": [
    "data.dens = scaler.fit_transform(data.dens)"
   ]
  },
  {
   "cell_type": "markdown",
   "metadata": {
    "deletable": true,
    "editable": true
   },
   "source": [
    "### Загрузка и подготовка данных о больницах"
   ]
  },
  {
   "cell_type": "code",
   "execution_count": null,
   "metadata": {
    "collapsed": false,
    "deletable": true,
    "editable": true,
    "scrolled": false
   },
   "outputs": [],
   "source": [
    "# первоначальное\n",
    "hospitals = pd.read_excel('data/hosp_data_bin.xlsx')\n",
    "hosp_coord = get_coord(hospitals['Адрес'])\n",
    "hosp_coord_df = pd.DataFrame(hosp_coord, columns=['lat', 'lon'])\n",
    "hospitals = hospitals.join(hosp_coord_df).dropna()\n",
    "hospitals.to_excel('data/hospitals_with_coord.xlsx')"
   ]
  },
  {
   "cell_type": "code",
   "execution_count": 288,
   "metadata": {
    "collapsed": false,
    "deletable": true,
    "editable": true
   },
   "outputs": [],
   "source": [
    "hospitals = pd.read_excel('data/hospitals_with_coord.xlsx')"
   ]
  },
  {
   "cell_type": "code",
   "execution_count": 300,
   "metadata": {
    "collapsed": false,
    "deletable": true,
    "editable": true
   },
   "outputs": [],
   "source": [
    "hospitals = hospitals[hospitals[['Челюстно-лицевая хирургия', 'Гемодиализ', 'Колопроктология',\n",
    "       'Ортопедия', 'Оториноларингология', 'Кардиохирургия', 'Детская эндокринология', 'Анастезиология и реаниматология', 'Диабетология', 'Пульмонология', 'Иммунология', 'Иммунопрофилактика',\n",
    "       'Сосудистая хирургия', 'Неврология', 'Хирургия гнойная', 'Стоматология хирургическая', 'Дерматология', 'Офтальмология', 'Гериатрия', 'Аллергология и иммунология', 'Стоматология', 'Урология',\n",
    "       'Травматология', 'Стоматология детская', 'Стоматология терапевтическая', 'Токсикология', 'ЭНДОКРИНОЛОГИЯ (ТЕРАПЕВТИЧЕСКАЯ)', 'Общая врачебная практика (семейная медицина)',\n",
    "       'Акушерство и гинекология', 'Рентгенология', 'ТЕРАПИЯ (ОБЩАЯ)', 'Радиология', 'Психиатрия', 'Ревматология', 'Ортодонтия', 'Торакальная хирургия', 'Абдоминальная хирургия', 'Химиотерапия',\n",
    "       'Неонатология', 'Кардиология', 'Педиатрия', 'Гастроэнтерология', 'Хирургия', 'Гематология', 'Инфекционные болезни', 'Восстановительная медицина', 'Лечебное дело', 'Детская кардиология',\n",
    "       'Детская онкология', 'Онкология', 'Физиотерапия', 'Детская хирургия', 'Общая практика', 'Акушерство', 'Детская урология-андрология', 'Нейрохирургия', 'Другое', 'Хирургия (комбустиология)',\n",
    "                     'Нефрология']].sum(axis=1)>0]"
   ]
  },
  {
   "cell_type": "code",
   "execution_count": 303,
   "metadata": {
    "collapsed": false,
    "deletable": true,
    "editable": true
   },
   "outputs": [],
   "source": [
    "hospitals = hospitals.reset_index()\n",
    "del hospitals['index']"
   ]
  },
  {
   "cell_type": "code",
   "execution_count": null,
   "metadata": {
    "collapsed": true,
    "deletable": true,
    "editable": true
   },
   "outputs": [],
   "source": [
    "hospitals['id_google'] = -1\n",
    "# hospitals['']\n",
    "for i, coord1 in enumerate(hospitals[['lat', 'lon']].values):\n",
    "#     lat, lon = coord[0], coord[1]\n",
    "    for j, coord2 in enumerate(hosp_google[['lat', 'lon']].values):\n",
    "        if vincenty(tuple(coord1), tuple(coord2)).km <= 2.0:\n",
    "            hospitals.set_value(i,'id_google', j)\n",
    "#             hospitals.set_value(i,'id_google', j)\n",
    "            break"
   ]
  },
  {
   "cell_type": "code",
   "execution_count": null,
   "metadata": {
    "collapsed": false,
    "deletable": true,
    "editable": true
   },
   "outputs": [],
   "source": [
    "hosp_google = hosp_google.reset_index()\n",
    "hospitals_merged = hospitals[hospitals['id_google']>=0][['Наименование организации', \n",
    "                                      'Субъект РФ', 'Адрес', 'id_google']].merge(hosp_google, how='left',\n",
    "                                                                                 left_on='id_google', right_on='index')"
   ]
  },
  {
   "cell_type": "code",
   "execution_count": 203,
   "metadata": {
    "collapsed": false,
    "deletable": true,
    "editable": true,
    "scrolled": true
   },
   "outputs": [],
   "source": [
    "hosp_google = pd.read_csv('data/hosp_correct.csv')\n",
    "del hosp_google['Unnamed: 0']"
   ]
  },
  {
   "cell_type": "code",
   "execution_count": 305,
   "metadata": {
    "collapsed": false,
    "deletable": true,
    "editable": true
   },
   "outputs": [],
   "source": [
    "m = jupgmaps.Map()\n",
    "symbols = jupgmaps.symbol_layer(\n",
    "    hosp_google[['lat', 'lon']], fill_color=\"red\", stroke_color=\"red\")\n",
    "m.add_layer(symbols)"
   ]
  },
  {
   "cell_type": "markdown",
   "metadata": {
    "deletable": true,
    "editable": true
   },
   "source": [
    "### Данные по городам"
   ]
  },
  {
   "cell_type": "code",
   "execution_count": 37,
   "metadata": {
    "collapsed": false,
    "deletable": true,
    "editable": true
   },
   "outputs": [],
   "source": [
    "cities_coord = pd.read_csv('data/lat_lon_cities.csv', sep=';', encoding='cp1251')\n",
    "del cities_coord['Unnamed: 0']\n",
    "cities_coord.columns = [  u'District',u'Region',u'Subdistrict',u'City', u'Latitude', u'Longitude',\n",
    "           u'Актуален М',     u'Актуален В',     u'Актуален Е',\n",
    "          u'Unnamed: 10',    u'Unnamed: 11']"
   ]
  },
  {
   "cell_type": "code",
   "execution_count": 45,
   "metadata": {
    "collapsed": false,
    "deletable": true,
    "editable": true
   },
   "outputs": [],
   "source": [
    "regions_good = pd.read_excel('data/regions_good.xls')"
   ]
  },
  {
   "cell_type": "code",
   "execution_count": 40,
   "metadata": {
    "collapsed": true,
    "deletable": true,
    "editable": true
   },
   "outputs": [],
   "source": [
    "reg_gb = regions_good.groupby('index_name')"
   ]
  },
  {
   "cell_type": "code",
   "execution_count": 52,
   "metadata": {
    "collapsed": false,
    "deletable": true,
    "editable": true
   },
   "outputs": [],
   "source": [
    "gr1 = list(reg_gb.groups.keys())[0]"
   ]
  },
  {
   "cell_type": "code",
   "execution_count": 55,
   "metadata": {
    "collapsed": false,
    "deletable": true,
    "editable": true
   },
   "outputs": [],
   "source": [
    "df = reg_gb.get_group(gr1)"
   ]
  },
  {
   "cell_type": "code",
   "execution_count": 57,
   "metadata": {
    "collapsed": false,
    "deletable": true,
    "editable": true,
    "scrolled": true
   },
   "outputs": [
    {
     "data": {
      "text/html": [
       "<div>\n",
       "<table border=\"1\" class=\"dataframe\">\n",
       "  <thead>\n",
       "    <tr style=\"text-align: right;\">\n",
       "      <th></th>\n",
       "      <th>city_name</th>\n",
       "      <th>regn_name</th>\n",
       "      <th>long</th>\n",
       "      <th>lat</th>\n",
       "      <th>index_name</th>\n",
       "      <th>measure</th>\n",
       "      <th>ID</th>\n",
       "      <th>index</th>\n",
       "      <th>type</th>\n",
       "      <th>2003</th>\n",
       "      <th>2004</th>\n",
       "      <th>2005</th>\n",
       "      <th>2006</th>\n",
       "      <th>2007</th>\n",
       "      <th>2008</th>\n",
       "      <th>2009</th>\n",
       "      <th>2010</th>\n",
       "      <th>2011</th>\n",
       "    </tr>\n",
       "  </thead>\n",
       "  <tbody>\n",
       "    <tr>\n",
       "      <th>6</th>\n",
       "      <td>Благовещенка</td>\n",
       "      <td>Алтайский край</td>\n",
       "      <td>52.781111</td>\n",
       "      <td>79.520000</td>\n",
       "      <td>Инвестиции в основной капитал за счет бюджетны...</td>\n",
       "      <td>тыс. руб.</td>\n",
       "      <td>69</td>\n",
       "      <td>11</td>\n",
       "      <td>3</td>\n",
       "      <td>NaN</td>\n",
       "      <td>NaN</td>\n",
       "      <td>NaN</td>\n",
       "      <td>NaN</td>\n",
       "      <td>NaN</td>\n",
       "      <td>NaN</td>\n",
       "      <td>NaN</td>\n",
       "      <td>NaN</td>\n",
       "      <td>NaN</td>\n",
       "    </tr>\n",
       "    <tr>\n",
       "      <th>19</th>\n",
       "      <td>Степное Озеро</td>\n",
       "      <td>Алтайский край</td>\n",
       "      <td>52.465200</td>\n",
       "      <td>79.849444</td>\n",
       "      <td>Инвестиции в основной капитал за счет бюджетны...</td>\n",
       "      <td>тыс. руб.</td>\n",
       "      <td>70</td>\n",
       "      <td>11</td>\n",
       "      <td>3</td>\n",
       "      <td>NaN</td>\n",
       "      <td>NaN</td>\n",
       "      <td>NaN</td>\n",
       "      <td>NaN</td>\n",
       "      <td>NaN</td>\n",
       "      <td>NaN</td>\n",
       "      <td>NaN</td>\n",
       "      <td>NaN</td>\n",
       "      <td>NaN</td>\n",
       "    </tr>\n",
       "  </tbody>\n",
       "</table>\n",
       "</div>"
      ],
      "text/plain": [
       "        city_name       regn_name       long        lat  \\\n",
       "6    Благовещенка  Алтайский край  52.781111  79.520000   \n",
       "19  Степное Озеро  Алтайский край  52.465200  79.849444   \n",
       "\n",
       "                                           index_name    measure  ID  index  \\\n",
       "6   Инвестиции в основной капитал за счет бюджетны...  тыс. руб.  69     11   \n",
       "19  Инвестиции в основной капитал за счет бюджетны...  тыс. руб.  70     11   \n",
       "\n",
       "    type  2003  2004  2005  2006  2007  2008  2009  2010  2011  \n",
       "6      3   NaN   NaN   NaN   NaN   NaN   NaN   NaN   NaN   NaN  \n",
       "19     3   NaN   NaN   NaN   NaN   NaN   NaN   NaN   NaN   NaN  "
      ]
     },
     "execution_count": 57,
     "metadata": {},
     "output_type": "execute_result"
    }
   ],
   "source": [
    "df.head(2)"
   ]
  },
  {
   "cell_type": "code",
   "execution_count": 66,
   "metadata": {
    "collapsed": false,
    "deletable": true,
    "editable": true
   },
   "outputs": [],
   "source": [
    "df= df[['city_name', 'regn_name', '2011']]"
   ]
  },
  {
   "cell_type": "code",
   "execution_count": 67,
   "metadata": {
    "collapsed": false,
    "deletable": true,
    "editable": true
   },
   "outputs": [],
   "source": [
    "df = df.dropna()"
   ]
  },
  {
   "cell_type": "markdown",
   "metadata": {
    "deletable": true,
    "editable": true
   },
   "source": [
    "### Данные по агломерациям"
   ]
  },
  {
   "cell_type": "code",
   "execution_count": 10,
   "metadata": {
    "collapsed": false,
    "deletable": true,
    "editable": true
   },
   "outputs": [],
   "source": [
    "aglom = pd.read_excel('data/airports_agglo.xlsx', sheetname='Aglom')"
   ]
  },
  {
   "cell_type": "code",
   "execution_count": 11,
   "metadata": {
    "collapsed": false,
    "deletable": true,
    "editable": true
   },
   "outputs": [
    {
     "data": {
      "text/plain": [
       "Index(['city rus', 'reg', 'lat', 'long', 'Unnamed: 4', 'Unnamed: 5',\n",
       "       'pop 2010', ' code by range 3', 'airp', 'dist', 'numb', 'Unnamed: 11',\n",
       "       'Unnamed: 12', 'city rus.1', 'reg.1', 'Unnamed: 15', 'city rus.2',\n",
       "       'region', 'Unnamed: 18', 'Unnamed: 19', 'Unnamed: 20'],\n",
       "      dtype='object')"
      ]
     },
     "execution_count": 11,
     "metadata": {},
     "output_type": "execute_result"
    }
   ],
   "source": [
    "aglom.columns"
   ]
  },
  {
   "cell_type": "code",
   "execution_count": 12,
   "metadata": {
    "collapsed": false,
    "deletable": true,
    "editable": true
   },
   "outputs": [],
   "source": [
    "aglom_df = aglom[['city rus', 'reg', 'lat', 'long', \"pop 2010\", 'airp', 'dist']].copy()"
   ]
  },
  {
   "cell_type": "code",
   "execution_count": 13,
   "metadata": {
    "collapsed": false,
    "deletable": true,
    "editable": true
   },
   "outputs": [],
   "source": [
    "aglom_df['class'] = 0"
   ]
  },
  {
   "cell_type": "code",
   "execution_count": 14,
   "metadata": {
    "collapsed": false,
    "deletable": true,
    "editable": true
   },
   "outputs": [],
   "source": [
    "aglom_df.columns = ['city', 'region', 'lat', 'long', \"pop\", 'airp', 'dist', 'class']"
   ]
  },
  {
   "cell_type": "markdown",
   "metadata": {
    "deletable": true,
    "editable": true
   },
   "source": [
    "* 0 класс: 1 - 999 чел / 258\n",
    "* 1 класс: 1000 - 9999 чел / 653\n",
    "* 2 класс: 10000 - 49999 чел / 639\n",
    "* 3 класс: 50000 - 149999 чел / 199\n",
    "* 4 класс: > 150000 чел / 107\n",
    "* 5 класс: > 1млн / 12"
   ]
  },
  {
   "cell_type": "code",
   "execution_count": 15,
   "metadata": {
    "collapsed": false,
    "deletable": true,
    "editable": true
   },
   "outputs": [],
   "source": [
    "aglom_df = aglom_df.reset_index()\n",
    "del aglom_df['index']"
   ]
  },
  {
   "cell_type": "code",
   "execution_count": 164,
   "metadata": {
    "collapsed": true,
    "deletable": true,
    "editable": true
   },
   "outputs": [],
   "source": [
    "def popul(x):\n",
    "    if x['pop'] < 1000:\n",
    "        x['class'] = 0\n",
    "    elif x['pop'] < 10000:\n",
    "        x['class'] = 1\n",
    "    elif x['pop'] < 50000:\n",
    "        x['class'] = 2\n",
    "    elif x['pop'] < 150000:\n",
    "        x['class'] = 3\n",
    "    elif x['pop'] < 1000000:\n",
    "        x['class'] = 4\n",
    "    else:\n",
    "        x['class'] = 5\n",
    "    return x"
   ]
  },
  {
   "cell_type": "code",
   "execution_count": 17,
   "metadata": {
    "collapsed": false,
    "deletable": true,
    "editable": true
   },
   "outputs": [],
   "source": [
    "aglom_df = aglom_df.apply(lambda x: popul(x), axis=1)"
   ]
  },
  {
   "cell_type": "markdown",
   "metadata": {
    "deletable": true,
    "editable": true
   },
   "source": [
    "Квантиль 75% отсечение далеких от аэропорта пунктов"
   ]
  },
  {
   "cell_type": "code",
   "execution_count": 18,
   "metadata": {
    "collapsed": false,
    "deletable": true,
    "editable": true
   },
   "outputs": [
    {
     "name": "stderr",
     "output_type": "stream",
     "text": [
      "/home/ubuntu/.local/lib/python3.5/site-packages/ipykernel/__main__.py:2: FutureWarning: reshape is deprecated and will raise in a subsequent release. Please use .values.reshape(...) instead\n",
      "  from ipykernel import kernelapp as app\n",
      "/home/ubuntu/.local/lib/python3.5/site-packages/sklearn/utils/validation.py:429: DataConversionWarning: Data with input dtype int64 was converted to float64 by MinMaxScaler.\n",
      "  warnings.warn(msg, _DataConversionWarning)\n"
     ]
    }
   ],
   "source": [
    "scaler = MinMaxScaler()\n",
    "aglom_df['class'] = scaler.fit_transform(aglom_df['class'].reshape(-1, 1))"
   ]
  },
  {
   "cell_type": "code",
   "execution_count": 19,
   "metadata": {
    "collapsed": false,
    "deletable": true,
    "editable": true
   },
   "outputs": [
    {
     "data": {
      "text/plain": [
       "0.0    258\n",
       "0.2    653\n",
       "0.4    639\n",
       "0.6    199\n",
       "0.8    107\n",
       "1.0     12\n",
       "Name: class, dtype: int64"
      ]
     },
     "execution_count": 19,
     "metadata": {},
     "output_type": "execute_result"
    }
   ],
   "source": [
    "aglom_df['class'].value_counts().sort_index()"
   ]
  },
  {
   "cell_type": "markdown",
   "metadata": {
    "collapsed": true,
    "deletable": true,
    "editable": true
   },
   "source": [
    "### Данные по аэродромам"
   ]
  },
  {
   "cell_type": "code",
   "execution_count": 5,
   "metadata": {
    "collapsed": false,
    "deletable": true,
    "editable": true
   },
   "outputs": [],
   "source": [
    "droms = pd.read_csv('data/aopa-points-export.csv', sep=';')"
   ]
  },
  {
   "cell_type": "code",
   "execution_count": 6,
   "metadata": {
    "collapsed": false,
    "deletable": true,
    "editable": true
   },
   "outputs": [],
   "source": [
    "droms = droms[(droms[\"Страна\"] == 'Россия') & (droms[\"Действующий\"] == 'Действующий')]"
   ]
  },
  {
   "cell_type": "code",
   "execution_count": 27,
   "metadata": {
    "collapsed": false,
    "deletable": true,
    "editable": true
   },
   "outputs": [],
   "source": [
    "droms_city = droms[droms['Город'].notnull()]"
   ]
  },
  {
   "cell_type": "code",
   "execution_count": 6,
   "metadata": {
    "collapsed": false,
    "deletable": true,
    "editable": true
   },
   "outputs": [
    {
     "data": {
      "text/plain": [
       "Index(['Действующий', 'Тип', 'Название', 'Город', 'Индекс', 'Индекс RU',\n",
       "       'Код страны', 'Страна', 'КТА', 'Превышение', 'Принадлежность',\n",
       "       'Международный', 'Email', 'Web-сайт', 'Примечание'],\n",
       "      dtype='object')"
      ]
     },
     "execution_count": 6,
     "metadata": {},
     "output_type": "execute_result"
    }
   ],
   "source": [
    "droms.columns"
   ]
  },
  {
   "cell_type": "code",
   "execution_count": 8,
   "metadata": {
    "collapsed": false,
    "deletable": true,
    "editable": true
   },
   "outputs": [
    {
     "data": {
      "text/plain": [
       "array(['ГА', 'АОН', 'МО', 'МЧС', 'МВД', 'ФСБ', 'ЭА', 'ДОСААФ', nan], dtype=object)"
      ]
     },
     "execution_count": 8,
     "metadata": {},
     "output_type": "execute_result"
    }
   ],
   "source": [
    "droms['Принадлежность'].unique()"
   ]
  },
  {
   "cell_type": "code",
   "execution_count": 7,
   "metadata": {
    "collapsed": true,
    "deletable": true,
    "editable": true
   },
   "outputs": [],
   "source": [
    "droms['lon'] = None\n",
    "droms['lat'] = None"
   ]
  },
  {
   "cell_type": "code",
   "execution_count": 8,
   "metadata": {
    "collapsed": false,
    "deletable": true,
    "editable": true
   },
   "outputs": [],
   "source": [
    "def lonlat(x):\n",
    "    lat, lon = x['КТА'].split()\n",
    "    lon = lon[1:-1]\n",
    "    lat = lat[1:-1]\n",
    "    x['lon'] = float(lon)\n",
    "    x['lat'] = float(lat)\n",
    "    return x"
   ]
  },
  {
   "cell_type": "code",
   "execution_count": 9,
   "metadata": {
    "collapsed": false,
    "deletable": true,
    "editable": true
   },
   "outputs": [],
   "source": [
    "droms = droms.apply(lambda x: lonlat(x), axis=1)"
   ]
  },
  {
   "cell_type": "code",
   "execution_count": 10,
   "metadata": {
    "collapsed": true,
    "deletable": true,
    "editable": true
   },
   "outputs": [],
   "source": [
    "aero_types = ['ГА', 'АОН', 'МЧС']"
   ]
  },
  {
   "cell_type": "code",
   "execution_count": 13,
   "metadata": {
    "collapsed": true,
    "deletable": true,
    "editable": true
   },
   "outputs": [],
   "source": [
    "droms_grazhd = droms[droms['Принадлежность'].isin(aero_types)]"
   ]
  },
  {
   "cell_type": "code",
   "execution_count": 15,
   "metadata": {
    "collapsed": false,
    "deletable": true,
    "editable": true
   },
   "outputs": [],
   "source": [
    "droms_grazhd.to_csv('droms_grazhd.csv', index=None)"
   ]
  },
  {
   "cell_type": "code",
   "execution_count": 16,
   "metadata": {
    "collapsed": true,
    "deletable": true,
    "editable": true
   },
   "outputs": [],
   "source": [
    "droms[droms['Принадлежность'] == 'ДОСААФ'].to_csv('droms_dosaaf.csv', index=None)"
   ]
  },
  {
   "cell_type": "code",
   "execution_count": 17,
   "metadata": {
    "collapsed": true,
    "deletable": true,
    "editable": true
   },
   "outputs": [],
   "source": [
    "droms.to_csv('droms_all.csv', index=None)"
   ]
  },
  {
   "cell_type": "code",
   "execution_count": 79,
   "metadata": {
    "collapsed": false,
    "deletable": true,
    "editable": true
   },
   "outputs": [],
   "source": [
    "droms = droms[droms['Тип'] == 'Аэродром']"
   ]
  },
  {
   "cell_type": "raw",
   "metadata": {
    "collapsed": false,
    "deletable": true,
    "editable": true
   },
   "source": [
    "droms = droms[droms['Название'].isin(droms_aglom)]"
   ]
  },
  {
   "cell_type": "markdown",
   "metadata": {
    "deletable": true,
    "editable": true
   },
   "source": [
    "### Вывод общей карты"
   ]
  },
  {
   "cell_type": "code",
   "execution_count": 193,
   "metadata": {
    "collapsed": false,
    "deletable": true,
    "editable": true,
    "scrolled": false
   },
   "outputs": [],
   "source": [
    "m = jupgmaps.Map()\n",
    "cyan = (0,255,255, 0.8)\n",
    "heatmap_layer = jupgmaps.heatmap_layer(aglom_df[['lat','long']], weights=aglom_df['class'], point_radius=15)#, max_intensity=np.mean(df.iloc[:10].dens))\n",
    "\n",
    "hosp = jupgmaps.symbol_layer(\n",
    "    hosp_g[['lat', 'lon']], fill_color='red', stroke_color='red', scale=2)\n",
    "\n",
    "# aero = jupgmaps.symbol_layer(\n",
    "#     droms[['lat', 'lon']], fill_color=\"purple\", stroke_color=\"purple\", scale=2)\n",
    "\n",
    "# m.add_layer(aero)\n",
    "m.add_layer(hosp)\n",
    "m.add_layer(heatmap_layer)"
   ]
  },
  {
   "cell_type": "code",
   "execution_count": 5,
   "metadata": {
    "collapsed": false,
    "deletable": true,
    "editable": true
   },
   "outputs": [],
   "source": [
    "russia_js = json.load(open('data/russia.geojson.js', 'r'))"
   ]
  },
  {
   "cell_type": "code",
   "execution_count": 85,
   "metadata": {
    "collapsed": true,
    "deletable": true,
    "editable": true
   },
   "outputs": [],
   "source": [
    "with open(\"data/regions_russia1.geojson\") as f:\n",
    "    geometry = json.load(f)"
   ]
  },
  {
   "cell_type": "code",
   "execution_count": 86,
   "metadata": {
    "collapsed": false,
    "deletable": true,
    "editable": true,
    "scrolled": true
   },
   "outputs": [],
   "source": [
    "m = jupgmaps.Map()\n",
    "geojson_layer = jupgmaps.geojson_layer(geometry)\n",
    "m.add_layer(geojson_layer)"
   ]
  },
  {
   "cell_type": "code",
   "execution_count": 82,
   "metadata": {
    "collapsed": false,
    "deletable": true,
    "editable": true
   },
   "outputs": [],
   "source": [
    "del geometry['features'][2]"
   ]
  },
  {
   "cell_type": "code",
   "execution_count": 485,
   "metadata": {
    "collapsed": false,
    "deletable": true,
    "editable": true,
    "scrolled": true
   },
   "outputs": [
    {
     "name": "stdout",
     "output_type": "stream",
     "text": [
      "0 Уральский федеральный округ\n",
      "1 Северо-Западный федеральный округ\n",
      "2 Приволжский федеральный округ\n",
      "3 Южный федеральный округ\n",
      "4 Северо-Кавказский федеральный округ\n",
      "5 Центральный федеральный округ\n",
      "6 Дальневосточный федеральный округ\n",
      "7 Сибирский федеральный округ\n"
     ]
    }
   ],
   "source": [
    "for i, g in enumerate(geometry['features']):\n",
    "    print(i, g['name'])"
   ]
  },
  {
   "cell_type": "markdown",
   "metadata": {
    "deletable": true,
    "editable": true
   },
   "source": [
    "### Поиск дополнительных данных по больницам по Google Places API"
   ]
  },
  {
   "cell_type": "code",
   "execution_count": 132,
   "metadata": {
    "collapsed": false,
    "deletable": true,
    "editable": true
   },
   "outputs": [],
   "source": [
    "aglom_coords = [tuple(x) for x in aglom_df[['lat', 'long']].values]"
   ]
  },
  {
   "cell_type": "code",
   "execution_count": 179,
   "metadata": {
    "collapsed": false,
    "deletable": true,
    "editable": true
   },
   "outputs": [
    {
     "name": "stdout",
     "output_type": "stream",
     "text": [
      "100\n",
      "200\n",
      "300\n",
      "400\n",
      "500\n",
      "600\n"
     ]
    }
   ],
   "source": [
    "hospitals_google = []\n",
    "cnt = 0\n",
    "for coord in aglom_coords:\n",
    "    if coord[1] >= 68.7:\n",
    "        res = gmaps.places('районная больница', coord, radius=50000)\n",
    "    #     print(1)\n",
    "        try:\n",
    "            i = 0\n",
    "            for data in res['results']:\n",
    "                if 'Russia' in data['formatted_address']:\n",
    "                    hosp_data = (\n",
    "                        data['geometry']['location']['lng'],\n",
    "                        data['geometry']['location']['lat'],\n",
    "                        data['formatted_address'],\n",
    "                        data['name']\n",
    "                    )\n",
    "                    hospitals_google += [hosp_data]\n",
    "                    i += 1\n",
    "                if i == 4:\n",
    "                    break\n",
    "            cnt+=1\n",
    "            if cnt % 100 == 0:\n",
    "                print(cnt)\n",
    "        except:\n",
    "            continue"
   ]
  },
  {
   "cell_type": "raw",
   "metadata": {
    "collapsed": true,
    "deletable": true,
    "editable": true
   },
   "source": [
    "hosp_rajon = pd.DataFrame(hospitals_google, columns=['lon', 'lat', 'adr', 'name'])"
   ]
  },
  {
   "cell_type": "raw",
   "metadata": {
    "collapsed": false,
    "deletable": true,
    "editable": true
   },
   "source": [
    "hosp_rajon = hosp_rajon.drop_duplicates()"
   ]
  },
  {
   "cell_type": "raw",
   "metadata": {
    "collapsed": true,
    "deletable": true,
    "editable": true
   },
   "source": [
    "hosp_rajon.to_csv('hospitals_google_rajon.csv')"
   ]
  },
  {
   "cell_type": "raw",
   "metadata": {
    "collapsed": false,
    "deletable": true,
    "editable": true
   },
   "source": [
    "hosp_g = pd.concat([df, hosp_rajon])"
   ]
  },
  {
   "cell_type": "raw",
   "metadata": {
    "collapsed": false,
    "deletable": true,
    "editable": true
   },
   "source": [
    "hosp_g = hosp_g.drop_duplicates()"
   ]
  },
  {
   "cell_type": "raw",
   "metadata": {
    "collapsed": false,
    "deletable": true,
    "editable": true
   },
   "source": [
    "df = pd.DataFrame(hospitals_google, columns=['lon', 'lat', 'adr', 'name'])#.to_csv('hospitals_google.csv')"
   ]
  },
  {
   "cell_type": "raw",
   "metadata": {
    "collapsed": false,
    "deletable": true,
    "editable": true
   },
   "source": [
    "df.drop_duplicates().to_csv('hospitals_google.csv')"
   ]
  },
  {
   "cell_type": "raw",
   "metadata": {
    "collapsed": false,
    "deletable": true,
    "editable": true
   },
   "source": [
    "df = df.drop_duplicates()"
   ]
  },
  {
   "cell_type": "raw",
   "metadata": {
    "collapsed": false,
    "deletable": true,
    "editable": true
   },
   "source": [
    "hospitals = pd.read_csv('hospitals_google.csv')"
   ]
  },
  {
   "cell_type": "markdown",
   "metadata": {
    "deletable": true,
    "editable": true
   },
   "source": [
    "### Данные по заболеваемости"
   ]
  },
  {
   "cell_type": "code",
   "execution_count": 36,
   "metadata": {
    "collapsed": true,
    "deletable": true,
    "editable": true
   },
   "outputs": [],
   "source": [
    "illness = pd.read_excel('data/Заболеваемость.xlsx')\n",
    "ill_reg  = list(illness['Регион'])\n",
    "illness.columns = ['region', '2010', '2011', 'mean', 'mean_man']\n",
    "illness = illness.set_index('region')\n",
    "illness = illness['mean_man']"
   ]
  },
  {
   "cell_type": "raw",
   "metadata": {
    "collapsed": false,
    "deletable": true,
    "editable": true,
    "scrolled": true
   },
   "source": [
    "intersect = []\n",
    "for i, r in enumerate(regions):\n",
    "    if r in ill_reg:\n",
    "        intersect += [r]\n",
    "    else:\n",
    "        print(i, r)"
   ]
  },
  {
   "cell_type": "code",
   "execution_count": 38,
   "metadata": {
    "collapsed": false,
    "deletable": true,
    "editable": true
   },
   "outputs": [],
   "source": [
    "okr_idx = illness.index[illness.index.str.contains('федеральный округ')]\n",
    "okr_ill = illness.index.isin(okr_idx)"
   ]
  },
  {
   "cell_type": "code",
   "execution_count": 39,
   "metadata": {
    "collapsed": false,
    "deletable": true,
    "editable": true
   },
   "outputs": [],
   "source": [
    "illness[~(okr_ill)][1:].to_csv('regions_illness.csv')"
   ]
  },
  {
   "cell_type": "code",
   "execution_count": 40,
   "metadata": {
    "collapsed": false,
    "deletable": true,
    "editable": true,
    "scrolled": false
   },
   "outputs": [
    {
     "data": {
      "text/plain": [
       "[<matplotlib.lines.Line2D at 0x7fb3c8b84a58>]"
      ]
     },
     "execution_count": 40,
     "metadata": {},
     "output_type": "execute_result"
    },
    {
     "data": {
      "image/png": "[encoded data removed]",
      "text/plain": [
       "<matplotlib.figure.Figure at 0x7fb3c8b82e10>"
      ]
     },
     "metadata": {},
     "output_type": "display_data"
    }
   ],
   "source": [
    "plt.plot(list(illness[okr_idx].sort_values()))"
   ]
  },
  {
   "cell_type": "code",
   "execution_count": 112,
   "metadata": {
    "collapsed": false,
    "deletable": true,
    "editable": true
   },
   "outputs": [
    {
     "data": {
      "text/plain": [
       "region\n",
       "Центральный федеральный округ          1.494413\n",
       "Северо-Западный федеральный округ      1.797771\n",
       "Южный федеральный округ                1.388362\n",
       "Северо-Кавказский федеральный округ    1.194677\n",
       "Приволжский федеральный округ          1.807590\n",
       "Уральский федеральный округ            1.496550\n",
       "Сибирский федеральный округ            1.703897\n",
       "Дальневосточный федеральный округ      1.536326\n",
       "Name: mean_man, dtype: float64"
      ]
     },
     "execution_count": 112,
     "metadata": {},
     "output_type": "execute_result"
    }
   ],
   "source": [
    "illness[okr_idx]"
   ]
  },
  {
   "cell_type": "code",
   "execution_count": 89,
   "metadata": {
    "collapsed": false,
    "deletable": true,
    "editable": true
   },
   "outputs": [],
   "source": [
    "okruga = pd.read_excel('data/okruga.xlsx')\n",
    "okruga['people'] = okruga['people'].apply(lambda x: int(x.replace('\\xa0','')))\n",
    "okruga['S'] = okruga['S'].apply(lambda x: int(x.replace('\\xa0','')))\n",
    "okruga['dens'] = okruga['people'] / okruga['S']"
   ]
  },
  {
   "cell_type": "code",
   "execution_count": 90,
   "metadata": {
    "collapsed": false,
    "deletable": true,
    "editable": true
   },
   "outputs": [
    {
     "data": {
      "text/html": [
       "<div>\n",
       "<table border=\"1\" class=\"dataframe\">\n",
       "  <thead>\n",
       "    <tr style=\"text-align: right;\">\n",
       "      <th></th>\n",
       "      <th>name</th>\n",
       "      <th>S</th>\n",
       "      <th>people</th>\n",
       "      <th>count_sub</th>\n",
       "      <th>center</th>\n",
       "      <th>prirost</th>\n",
       "      <th>VRP</th>\n",
       "      <th>dens</th>\n",
       "    </tr>\n",
       "  </thead>\n",
       "  <tbody>\n",
       "    <tr>\n",
       "      <th>0</th>\n",
       "      <td>Центральный федеральный округ</td>\n",
       "      <td>650205</td>\n",
       "      <td>39209582</td>\n",
       "      <td>18</td>\n",
       "      <td>Москва</td>\n",
       "      <td>-1,8</td>\n",
       "      <td>22 714</td>\n",
       "      <td>60.303415</td>\n",
       "    </tr>\n",
       "    <tr>\n",
       "      <th>1</th>\n",
       "      <td>Северо-Западный федеральный округ</td>\n",
       "      <td>1686972</td>\n",
       "      <td>13899310</td>\n",
       "      <td>11</td>\n",
       "      <td>Санкт-Петербург</td>\n",
       "      <td>-1,2</td>\n",
       "      <td>6790</td>\n",
       "      <td>8.239206</td>\n",
       "    </tr>\n",
       "    <tr>\n",
       "      <th>2</th>\n",
       "      <td>Южный федеральный округ[8]</td>\n",
       "      <td>447821</td>\n",
       "      <td>16428458</td>\n",
       "      <td>8</td>\n",
       "      <td>Ростов-на-Дону</td>\n",
       "      <td>-1,3</td>\n",
       "      <td>4591</td>\n",
       "      <td>36.685323</td>\n",
       "    </tr>\n",
       "    <tr>\n",
       "      <th>3</th>\n",
       "      <td>Северо-Кавказский федеральный округ</td>\n",
       "      <td>170439</td>\n",
       "      <td>9775770</td>\n",
       "      <td>7</td>\n",
       "      <td>Пятигорск</td>\n",
       "      <td>8,1</td>\n",
       "      <td>1704</td>\n",
       "      <td>57.356415</td>\n",
       "    </tr>\n",
       "    <tr>\n",
       "      <th>4</th>\n",
       "      <td>Приволжский федеральный округ</td>\n",
       "      <td>1036975</td>\n",
       "      <td>29636574</td>\n",
       "      <td>14</td>\n",
       "      <td>Нижний Новгород</td>\n",
       "      <td>-0,3</td>\n",
       "      <td>9916</td>\n",
       "      <td>28.579835</td>\n",
       "    </tr>\n",
       "    <tr>\n",
       "      <th>5</th>\n",
       "      <td>Уральский федеральный округ</td>\n",
       "      <td>1818497</td>\n",
       "      <td>12345803</td>\n",
       "      <td>6</td>\n",
       "      <td>Екатеринбург</td>\n",
       "      <td>1,9</td>\n",
       "      <td>8980</td>\n",
       "      <td>6.789015</td>\n",
       "    </tr>\n",
       "    <tr>\n",
       "      <th>6</th>\n",
       "      <td>Сибирский федеральный округ</td>\n",
       "      <td>5144953</td>\n",
       "      <td>19326196</td>\n",
       "      <td>12</td>\n",
       "      <td>Новосибирск</td>\n",
       "      <td>0,8</td>\n",
       "      <td>6752</td>\n",
       "      <td>3.756341</td>\n",
       "    </tr>\n",
       "    <tr>\n",
       "      <th>7</th>\n",
       "      <td>Дальневосточный федеральный округ</td>\n",
       "      <td>6169329</td>\n",
       "      <td>6182679</td>\n",
       "      <td>9</td>\n",
       "      <td>Хабаровск</td>\n",
       "      <td>0,9</td>\n",
       "      <td>3719</td>\n",
       "      <td>1.002164</td>\n",
       "    </tr>\n",
       "  </tbody>\n",
       "</table>\n",
       "</div>"
      ],
      "text/plain": [
       "                                  name        S    people  count_sub  \\\n",
       "0        Центральный федеральный округ   650205  39209582         18   \n",
       "1    Северо-Западный федеральный округ  1686972  13899310         11   \n",
       "2           Южный федеральный округ[8]   447821  16428458          8   \n",
       "3  Северо-Кавказский федеральный округ   170439   9775770          7   \n",
       "4        Приволжский федеральный округ  1036975  29636574         14   \n",
       "5          Уральский федеральный округ  1818497  12345803          6   \n",
       "6          Сибирский федеральный округ  5144953  19326196         12   \n",
       "7    Дальневосточный федеральный округ  6169329   6182679          9   \n",
       "\n",
       "            center prirost     VRP       dens  \n",
       "0           Москва    -1,8  22 714  60.303415  \n",
       "1  Санкт-Петербург    -1,2    6790   8.239206  \n",
       "2   Ростов-на-Дону    -1,3    4591  36.685323  \n",
       "3        Пятигорск     8,1    1704  57.356415  \n",
       "4  Нижний Новгород    -0,3    9916  28.579835  \n",
       "5     Екатеринбург     1,9    8980   6.789015  \n",
       "6      Новосибирск     0,8    6752   3.756341  \n",
       "7        Хабаровск     0,9    3719   1.002164  "
      ]
     },
     "execution_count": 90,
     "metadata": {},
     "output_type": "execute_result"
    }
   ],
   "source": [
    "okruga"
   ]
  },
  {
   "cell_type": "code",
   "execution_count": 451,
   "metadata": {
    "collapsed": false,
    "deletable": true,
    "editable": true
   },
   "outputs": [
    {
     "data": {
      "text/html": [
       "<div>\n",
       "<table border=\"1\" class=\"dataframe\">\n",
       "  <thead>\n",
       "    <tr style=\"text-align: right;\">\n",
       "      <th></th>\n",
       "      <th>name</th>\n",
       "      <th>S</th>\n",
       "      <th>people</th>\n",
       "      <th>count_sub</th>\n",
       "      <th>center</th>\n",
       "      <th>prirost</th>\n",
       "      <th>VRP</th>\n",
       "      <th>dens</th>\n",
       "    </tr>\n",
       "  </thead>\n",
       "  <tbody>\n",
       "    <tr>\n",
       "      <th>7</th>\n",
       "      <td>Дальневосточный федеральный округ</td>\n",
       "      <td>6169329</td>\n",
       "      <td>6182679</td>\n",
       "      <td>9</td>\n",
       "      <td>Хабаровск</td>\n",
       "      <td>0,9</td>\n",
       "      <td>3719</td>\n",
       "      <td>1.002164</td>\n",
       "    </tr>\n",
       "    <tr>\n",
       "      <th>6</th>\n",
       "      <td>Сибирский федеральный округ</td>\n",
       "      <td>5144953</td>\n",
       "      <td>19326196</td>\n",
       "      <td>12</td>\n",
       "      <td>Новосибирск</td>\n",
       "      <td>0,8</td>\n",
       "      <td>6752</td>\n",
       "      <td>3.756341</td>\n",
       "    </tr>\n",
       "    <tr>\n",
       "      <th>5</th>\n",
       "      <td>Уральский федеральный округ</td>\n",
       "      <td>1818497</td>\n",
       "      <td>12345803</td>\n",
       "      <td>6</td>\n",
       "      <td>Екатеринбург</td>\n",
       "      <td>1,9</td>\n",
       "      <td>8980</td>\n",
       "      <td>6.789015</td>\n",
       "    </tr>\n",
       "    <tr>\n",
       "      <th>1</th>\n",
       "      <td>Северо-Западный федеральный округ</td>\n",
       "      <td>1686972</td>\n",
       "      <td>13899310</td>\n",
       "      <td>11</td>\n",
       "      <td>Санкт-Петербург</td>\n",
       "      <td>-1,2</td>\n",
       "      <td>6790</td>\n",
       "      <td>8.239206</td>\n",
       "    </tr>\n",
       "    <tr>\n",
       "      <th>4</th>\n",
       "      <td>Приволжский федеральный округ</td>\n",
       "      <td>1036975</td>\n",
       "      <td>29636574</td>\n",
       "      <td>14</td>\n",
       "      <td>Нижний Новгород</td>\n",
       "      <td>-0,3</td>\n",
       "      <td>9916</td>\n",
       "      <td>28.579835</td>\n",
       "    </tr>\n",
       "    <tr>\n",
       "      <th>2</th>\n",
       "      <td>Южный федеральный округ[8]</td>\n",
       "      <td>447821</td>\n",
       "      <td>16428458</td>\n",
       "      <td>8</td>\n",
       "      <td>Ростов-на-Дону</td>\n",
       "      <td>-1,3</td>\n",
       "      <td>4591</td>\n",
       "      <td>36.685323</td>\n",
       "    </tr>\n",
       "    <tr>\n",
       "      <th>3</th>\n",
       "      <td>Северо-Кавказский федеральный округ</td>\n",
       "      <td>170439</td>\n",
       "      <td>9775770</td>\n",
       "      <td>7</td>\n",
       "      <td>Пятигорск</td>\n",
       "      <td>8,1</td>\n",
       "      <td>1704</td>\n",
       "      <td>57.356415</td>\n",
       "    </tr>\n",
       "    <tr>\n",
       "      <th>0</th>\n",
       "      <td>Центральный федеральный округ</td>\n",
       "      <td>650205</td>\n",
       "      <td>39209582</td>\n",
       "      <td>18</td>\n",
       "      <td>Москва</td>\n",
       "      <td>-1,8</td>\n",
       "      <td>22 714</td>\n",
       "      <td>60.303415</td>\n",
       "    </tr>\n",
       "  </tbody>\n",
       "</table>\n",
       "</div>"
      ],
      "text/plain": [
       "                                  name        S    people  count_sub  \\\n",
       "7    Дальневосточный федеральный округ  6169329   6182679          9   \n",
       "6          Сибирский федеральный округ  5144953  19326196         12   \n",
       "5          Уральский федеральный округ  1818497  12345803          6   \n",
       "1    Северо-Западный федеральный округ  1686972  13899310         11   \n",
       "4        Приволжский федеральный округ  1036975  29636574         14   \n",
       "2           Южный федеральный округ[8]   447821  16428458          8   \n",
       "3  Северо-Кавказский федеральный округ   170439   9775770          7   \n",
       "0        Центральный федеральный округ   650205  39209582         18   \n",
       "\n",
       "            center prirost     VRP       dens  \n",
       "7        Хабаровск     0,9    3719   1.002164  \n",
       "6      Новосибирск     0,8    6752   3.756341  \n",
       "5     Екатеринбург     1,9    8980   6.789015  \n",
       "1  Санкт-Петербург    -1,2    6790   8.239206  \n",
       "4  Нижний Новгород    -0,3    9916  28.579835  \n",
       "2   Ростов-на-Дону    -1,3    4591  36.685323  \n",
       "3        Пятигорск     8,1    1704  57.356415  \n",
       "0           Москва    -1,8  22 714  60.303415  "
      ]
     },
     "execution_count": 451,
     "metadata": {},
     "output_type": "execute_result"
    }
   ],
   "source": [
    "okruga.sort_values(by='dens')"
   ]
  },
  {
   "cell_type": "markdown",
   "metadata": {
    "deletable": true,
    "editable": true
   },
   "source": [
    "### Расчет корреляций по регионам"
   ]
  },
  {
   "cell_type": "code",
   "execution_count": 20,
   "metadata": {
    "collapsed": true,
    "deletable": true,
    "editable": true
   },
   "outputs": [],
   "source": [
    "inp = pd.read_excel('data/inp_ran.xlsx')"
   ]
  },
  {
   "cell_type": "code",
   "execution_count": 23,
   "metadata": {
    "collapsed": false,
    "deletable": true,
    "editable": true
   },
   "outputs": [],
   "source": [
    "count = 0\n",
    "i = -1\n",
    "regions = []\n",
    "dfs = [pd.DataFrame([], columns=inp.columns)] * 81\n",
    "for index, row in inp.iterrows():\n",
    "    index = str(index)\n",
    "    if not index.isdigit():\n",
    "        if index == 'nan':\n",
    "            start = True\n",
    "            continue\n",
    "        count += 1\n",
    "        if 'федеральный округ' in index:\n",
    "            continue\n",
    "        i += 1\n",
    "#         print(i, index)\n",
    "        regions += [index]\n",
    "    else:\n",
    "        if int(index) < 2013:\n",
    "            dfs[i] = dfs[i].append(row)#, ignore_index=True)\n",
    "#     if i == 2:\n",
    "#         break"
   ]
  },
  {
   "cell_type": "code",
   "execution_count": 24,
   "metadata": {
    "collapsed": true,
    "deletable": true,
    "editable": true
   },
   "outputs": [],
   "source": [
    "regions[0] = 'Российская Федерация'\n",
    "regions[18] = 'гор. Москва'\n",
    "regions[28] = 'гор. Санкт - Петербург'\n",
    "regions[38] = \"Карачаево-Черкесская Респ.\"\n",
    "regions[37] = 'Кабардино-Балкарская Респ.'\n",
    "regions[39] = 'Р. Северная Осетия - Алания'\n",
    "regions[79] = 'Еврейская авт.область'"
   ]
  },
  {
   "cell_type": "code",
   "execution_count": 25,
   "metadata": {
    "collapsed": false,
    "deletable": true,
    "editable": true
   },
   "outputs": [],
   "source": [
    "for i, df_inp in enumerate(dfs):\n",
    "    dfs[i] = dfs[i].transpose()\n",
    "    dfs[i]['region'] = regions[i]"
   ]
  },
  {
   "cell_type": "code",
   "execution_count": 26,
   "metadata": {
    "collapsed": false,
    "deletable": true,
    "editable": true
   },
   "outputs": [],
   "source": [
    "df_inp = pd.concat(dfs)"
   ]
  },
  {
   "cell_type": "code",
   "execution_count": 27,
   "metadata": {
    "collapsed": false,
    "deletable": true,
    "editable": true
   },
   "outputs": [],
   "source": [
    "df_inp = df_inp.reset_index()"
   ]
  },
  {
   "cell_type": "code",
   "execution_count": 29,
   "metadata": {
    "collapsed": false,
    "deletable": true,
    "editable": true
   },
   "outputs": [],
   "source": [
    "inp_gb = df_inp.groupby('index')"
   ]
  },
  {
   "cell_type": "code",
   "execution_count": 30,
   "metadata": {
    "collapsed": true,
    "deletable": true,
    "editable": true
   },
   "outputs": [
    {
     "ename": "NameError",
     "evalue": "name 'gr1' is not defined",
     "output_type": "error",
     "traceback": [
      "\u001b[0;31m---------------------------------------------------------------------------\u001b[0m",
      "\u001b[0;31mNameError\u001b[0m                                 Traceback (most recent call last)",
      "\u001b[0;32m<ipython-input-30-bf745904790e>\u001b[0m in \u001b[0;36m<module>\u001b[0;34m()\u001b[0m\n\u001b[0;32m----> 1\u001b[0;31m \u001b[0mfeatures_df\u001b[0m \u001b[0;34m=\u001b[0m \u001b[0mpd\u001b[0m\u001b[0;34m.\u001b[0m\u001b[0mDataFrame\u001b[0m\u001b[0;34m(\u001b[0m\u001b[0mindex\u001b[0m \u001b[0;34m=\u001b[0m \u001b[0mgr1\u001b[0m\u001b[0;34m.\u001b[0m\u001b[0mindex\u001b[0m\u001b[0;34m)\u001b[0m\u001b[0;34m\u001b[0m\u001b[0m\n\u001b[0m",
      "\u001b[0;31mNameError\u001b[0m: name 'gr1' is not defined"
     ]
    }
   ],
   "source": [
    "features_df = pd.DataFrame(index = gr1.index)"
   ]
  },
  {
   "cell_type": "code",
   "execution_count": 34,
   "metadata": {
    "collapsed": false,
    "deletable": true,
    "editable": true
   },
   "outputs": [],
   "source": [
    "for i in range(len(inp_gb.groups.keys())):\n",
    "    name = list(inp_gb.groups.keys())[i]\n",
    "    gr1 = inp_gb.get_group(name)\n",
    "    gr1 = gr1.set_index('region')\n",
    "    del gr1['index']\n",
    "    gr1['mean'] = gr1.mean(axis=1)\n",
    "    gr1['diff'] = gr1[2012] - gr1[2009]\n",
    "    features_df[name] = gr1['mean']"
   ]
  },
  {
   "cell_type": "code",
   "execution_count": 41,
   "metadata": {
    "collapsed": false,
    "deletable": true,
    "editable": true
   },
   "outputs": [],
   "source": [
    "features_df['ILLNESS'] = illness"
   ]
  },
  {
   "cell_type": "code",
   "execution_count": 167,
   "metadata": {
    "collapsed": true,
    "deletable": true,
    "editable": true
   },
   "outputs": [],
   "source": [
    "features_df.to_csv('features_data.csv')"
   ]
  },
  {
   "cell_type": "code",
   "execution_count": 32,
   "metadata": {
    "collapsed": false,
    "deletable": true,
    "editable": true
   },
   "outputs": [],
   "source": [
    "features_df = pd.read_csv('features_data.csv')\n",
    "features_df = features_df.set_index('region')"
   ]
  },
  {
   "cell_type": "markdown",
   "metadata": {},
   "source": [
    "Ниже - данные по вызовам скорой и т п"
   ]
  },
  {
   "cell_type": "code",
   "execution_count": 87,
   "metadata": {
    "collapsed": false,
    "deletable": true,
    "editable": true
   },
   "outputs": [],
   "source": [
    "carpet_new = pd.read_excel('data/carpet.xlsx')"
   ]
  },
  {
   "cell_type": "code",
   "execution_count": 88,
   "metadata": {
    "collapsed": true,
    "deletable": true,
    "editable": true
   },
   "outputs": [],
   "source": [
    "carpet_new = carpet_new[~(carpet_new['Субъекты Российской Федерации'].str.contains('федеральный округ'))]"
   ]
  },
  {
   "cell_type": "code",
   "execution_count": 97,
   "metadata": {
    "collapsed": false,
    "deletable": true,
    "editable": true
   },
   "outputs": [],
   "source": [
    "carpet_new = carpet_new[~(carpet_new['Субъекты Российской Федерации'].isin(\n",
    "                           ['Ненецкий автономный округ'\n",
    "                            'Ханты-Мансийский авт.округ'\n",
    "                            'Ямало-Ненецкий авт.округ']))]"
   ]
  },
  {
   "cell_type": "code",
   "execution_count": 65,
   "metadata": {
    "collapsed": false,
    "deletable": true,
    "editable": true
   },
   "outputs": [
    {
     "name": "stdout",
     "output_type": "stream",
     "text": [
      "Ненецкий автономный округ\n",
      "Ханты-Мансийский авт.округ\n",
      "Ямало-Ненецкий авт.округ\n"
     ]
    }
   ],
   "source": [
    "for sub in list(carpet_new['Субъекты Российской Федерации']):\n",
    "    if not (sub in list(features_df.index)):\n",
    "        print(sub)"
   ]
  },
  {
   "cell_type": "code",
   "execution_count": null,
   "metadata": {
    "collapsed": true,
    "deletable": true,
    "editable": true
   },
   "outputs": [],
   "source": [
    "carpet_new"
   ]
  },
  {
   "cell_type": "code",
   "execution_count": 80,
   "metadata": {
    "collapsed": true,
    "deletable": true,
    "editable": true
   },
   "outputs": [],
   "source": [
    "carpet_new.columns = [transliterate.translit(col, language_code='ru', reversed=True) for col in carpet_new.columns]\n",
    "# features_df.columns"
   ]
  },
  {
   "cell_type": "code",
   "execution_count": 107,
   "metadata": {
    "collapsed": false,
    "deletable": true,
    "editable": true
   },
   "outputs": [],
   "source": [
    "features_df.columns = [transliterate.translit(col, language_code='ru', reversed=True) for col in features_df.columns]\n",
    "# features_df.columns"
   ]
  },
  {
   "cell_type": "code",
   "execution_count": 69,
   "metadata": {
    "collapsed": true,
    "deletable": true,
    "editable": true
   },
   "outputs": [],
   "source": [
    "scaler = MinMaxScaler()"
   ]
  },
  {
   "cell_type": "code",
   "execution_count": 41,
   "metadata": {
    "collapsed": false,
    "deletable": true,
    "editable": true
   },
   "outputs": [
    {
     "name": "stderr",
     "output_type": "stream",
     "text": [
      "/home/ubuntu/.local/lib/python3.5/site-packages/sklearn/preprocessing/data.py:321: DeprecationWarning: Passing 1d arrays as data is deprecated in 0.17 and will raise ValueError in 0.19. Reshape your data either using X.reshape(-1, 1) if your data has a single feature or X.reshape(1, -1) if it contains a single sample.\n",
      "  warnings.warn(DEPRECATION_MSG_1D, DeprecationWarning)\n",
      "/home/ubuntu/.local/lib/python3.5/site-packages/sklearn/preprocessing/data.py:356: DeprecationWarning: Passing 1d arrays as data is deprecated in 0.17 and will raise ValueError in 0.19. Reshape your data either using X.reshape(-1, 1) if your data has a single feature or X.reshape(1, -1) if it contains a single sample.\n",
      "  warnings.warn(DEPRECATION_MSG_1D, DeprecationWarning)\n"
     ]
    }
   ],
   "source": [
    "features_df.ILLNESS = scaler.fit_transform(features_df.ILLNESS)"
   ]
  },
  {
   "cell_type": "code",
   "execution_count": 96,
   "metadata": {
    "collapsed": false,
    "deletable": true,
    "editable": true
   },
   "outputs": [],
   "source": [
    "features_df = features_df.reset_index()"
   ]
  },
  {
   "cell_type": "code",
   "execution_count": 102,
   "metadata": {
    "collapsed": true,
    "deletable": true,
    "editable": true
   },
   "outputs": [],
   "source": [
    "features_df = features_df.merge(carpet_new, how='inner', left_on='region', right_on='Субъекты Российской Федерации')"
   ]
  },
  {
   "cell_type": "code",
   "execution_count": 106,
   "metadata": {
    "collapsed": false,
    "deletable": true,
    "editable": true
   },
   "outputs": [],
   "source": [
    "features_df.corr().to_excel('correlations_all.xlsx')"
   ]
  },
  {
   "cell_type": "code",
   "execution_count": 110,
   "metadata": {
    "collapsed": false,
    "deletable": true,
    "editable": true,
    "scrolled": false
   },
   "outputs": [
    {
     "data": {
      "image/png": "[encoded data removed]",
      "text/plain": [
       "<matplotlib.figure.Figure at 0x7fb3a405ca20>"
      ]
     },
     "metadata": {},
     "output_type": "display_data"
    }
   ],
   "source": [
    "matplotlib.rc('font',**{'family':'Verdana', 'size':50})\n",
    "plt.figure(figsize=(40,30))\n",
    "fg = sns.heatmap(features_df.corr(),rasterized=True)"
   ]
  },
  {
   "cell_type": "code",
   "execution_count": 111,
   "metadata": {
    "collapsed": false,
    "deletable": true,
    "editable": true
   },
   "outputs": [],
   "source": [
    "fg.get_figure().savefig(\"kover.png\")"
   ]
  },
  {
   "cell_type": "markdown",
   "metadata": {
    "deletable": true,
    "editable": true
   },
   "source": [
    "## Расчеты"
   ]
  },
  {
   "cell_type": "markdown",
   "metadata": {
    "deletable": true,
    "editable": true
   },
   "source": [
    "#### агломерации около точки"
   ]
  },
  {
   "cell_type": "code",
   "execution_count": 235,
   "metadata": {
    "collapsed": false,
    "deletable": true,
    "editable": true
   },
   "outputs": [],
   "source": [
    "aglom_coords = [tuple(x) for x in aglom[['lat', 'long']].values]\n",
    "def get_agloms(point, r):\n",
    "    # point: tuple (lon, lat)\n",
    "    points = [x for x in aglom_coords if (vincenty(point, x).km <= r)]\n",
    "    return points"
   ]
  },
  {
   "cell_type": "code",
   "execution_count": 238,
   "metadata": {
    "collapsed": false,
    "deletable": true,
    "editable": true,
    "scrolled": true
   },
   "outputs": [
    {
     "name": "stdout",
     "output_type": "stream",
     "text": [
      "10 loops, best of 3: 53.7 ms per loop\n"
     ]
    }
   ],
   "source": [
    "%%timeit\n",
    "get_agloms((55.750063, 37.322022), 20.)"
   ]
  },
  {
   "cell_type": "code",
   "execution_count": 240,
   "metadata": {
    "collapsed": true,
    "deletable": true,
    "editable": true
   },
   "outputs": [],
   "source": [
    "hosp_coords = [tuple(x) for x in hosp_g[['lat', 'lon']].values]\n",
    "def get_hospitals(point, r):\n",
    "    # point: tuple (lon, lat)\n",
    "    points = [x for x in hosp_coords if (vincenty(point, x).km <= r)]\n",
    "    return points"
   ]
  },
  {
   "cell_type": "markdown",
   "metadata": {
    "deletable": true,
    "editable": true
   },
   "source": [
    "#### Матрица расстояний больниц от аэродромов"
   ]
  },
  {
   "cell_type": "code",
   "execution_count": 260,
   "metadata": {
    "collapsed": false,
    "deletable": true,
    "editable": true
   },
   "outputs": [],
   "source": [
    "dist_matrix = np.zeros((len(droms), len(droms)))"
   ]
  },
  {
   "cell_type": "code",
   "execution_count": 256,
   "metadata": {
    "collapsed": true,
    "deletable": true,
    "editable": true
   },
   "outputs": [],
   "source": [
    "droms_coords = [tuple(x) for x in droms[['lat', 'lon']].values]"
   ]
  },
  {
   "cell_type": "code",
   "execution_count": 266,
   "metadata": {
    "collapsed": false,
    "deletable": true,
    "editable": true
   },
   "outputs": [],
   "source": [
    "for i in range(len(droms)):\n",
    "    for j in range(len(droms)):\n",
    "        dist_matrix[i, j] = vincenty(droms_coords[i], droms_coords[j]).km"
   ]
  },
  {
   "cell_type": "markdown",
   "metadata": {
    "deletable": true,
    "editable": true
   },
   "source": [
    "#### Расчеты зон покрытия вертолетом"
   ]
  },
  {
   "cell_type": "code",
   "execution_count": 220,
   "metadata": {
    "collapsed": false,
    "deletable": true,
    "editable": true
   },
   "outputs": [],
   "source": [
    "def toRadians(angleInDegrees):\n",
    "    return angleInDegrees * math.pi / 180.\n",
    "\n",
    "\n",
    "def toDegrees(angleInRadians):\n",
    "    \n",
    "    return angleInRadians * 180. / math.pi\n",
    "\n",
    "\n",
    "def offset(c1, distance, bearing):\n",
    "    lat1 = toRadians(c1[1])\n",
    "    lon1 = toRadians(c1[0])\n",
    "    dByR = distance / 6378137 # distance divided by 6378137 (radius of the earth) wgs84\n",
    "    lat = math.asin(\n",
    "    math.sin(lat1) * math.cos(dByR) +\n",
    "    math.cos(lat1) * math.sin(dByR) * math.cos(bearing))\n",
    "    lon = lon1 + math.atan2(\n",
    "        math.sin(bearing) * math.sin(dByR) * math.cos(lat1),\n",
    "        math.cos(dByR) - math.sin(lat1) * math.sin(lat))\n",
    "    return [toDegrees(lon), toDegrees(lat)]\n",
    "\n",
    "def circleToPolygon(center, radius, numberOfSegments=None):\n",
    "    \n",
    "    n = numberOfSegments if numberOfSegments else 32\n",
    "    flatCoordinates = [offset(center, radius, 2 * math.pi * i / n) for i in range(n)]\n",
    "#     for (let i = 0; i < n; ++i) {\n",
    "#         flatCoordinates.push.apply(flatCoordinates, offset(center, radius, 2 * Math.PI * i / n));\n",
    "#     }\n",
    "#     print(flatCoordinates)\n",
    "    flatCoordinates += [flatCoordinates[0]]\n",
    "    coordinates = []\n",
    "   \n",
    "    for j in range(0,len(flatCoordinates),2):\n",
    "        coordinates += flatCoordinates[j:j+2]\n",
    "\n",
    "    return {\n",
    "      'type': 'Polygon',\n",
    "      'coordinates': [list(reversed(coordinates))]\n",
    "    }"
   ]
  },
  {
   "cell_type": "code",
   "execution_count": 219,
   "metadata": {
    "collapsed": false,
    "deletable": true,
    "editable": true
   },
   "outputs": [],
   "source": [
    "def get_circle(geom, region):\n",
    "    circle = { \"type\": \"Feature\",\n",
    "             \"geometry\": geom,\n",
    "             \"properties\": {\n",
    "               \"region\": region\n",
    "               },\n",
    "             }\n",
    "    return circle\n",
    "def add_circles(coords, radius=200): # km\n",
    "    circles = { \"type\": \"FeatureCollection\",\n",
    "    \"features\": []\n",
    "     }\n",
    "    if not (isinstance(radius, list)):\n",
    "        radius = [radius]*len(coords)\n",
    "    for i, coord in enumerate(coords):\n",
    "        circles['features'] += [get_circle(circleToPolygon((coord[1], coord[0]), radius[i]*1000), get_region(coord))]\n",
    "    return circles"
   ]
  },
  {
   "cell_type": "code",
   "execution_count": 307,
   "metadata": {
    "collapsed": false,
    "deletable": true,
    "editable": true
   },
   "outputs": [],
   "source": [
    "test = add_circles([(55.748049, 37.624572), (55.704739, 38.377261)])"
   ]
  },
  {
   "cell_type": "markdown",
   "metadata": {
    "deletable": true,
    "editable": true
   },
   "source": [
    "#### Попадание точек в зону покрытия вертолета"
   ]
  },
  {
   "cell_type": "code",
   "execution_count": 23,
   "metadata": {
    "collapsed": false,
    "deletable": true,
    "editable": true
   },
   "outputs": [],
   "source": [
    "def get_square(dist, mylon, mylat):\n",
    "    lon1 = mylon-dist/abs(math.cos(math.radians(mylat))*111.0) # 1 градус широты = 111 км\n",
    "    lon2 = mylon+dist/abs(math.cos(math.radians(mylat))*111.0)\n",
    "    lat1 = mylat-(dist/111.0)\n",
    "    lat2 = mylat+(dist/111.0)\n",
    "    square = (\n",
    "        lon1,\n",
    "        lon2,\n",
    "        lat1,\n",
    "        lat2\n",
    "    )\n",
    "    return square"
   ]
  },
  {
   "cell_type": "code",
   "execution_count": 24,
   "metadata": {
    "collapsed": false,
    "deletable": true,
    "editable": true
   },
   "outputs": [],
   "source": [
    "def dot_in_square(lon, lat, square):\n",
    "    lon1,lon2,lat1,lat2 = square\n",
    "    if lon > lon1 and lon < lon2 and lat > lat1 and lat < lat2:\n",
    "        return True"
   ]
  },
  {
   "cell_type": "markdown",
   "metadata": {
    "deletable": true,
    "editable": true
   },
   "source": [
    "#### Загрузка центров"
   ]
  },
  {
   "cell_type": "code",
   "execution_count": 138,
   "metadata": {
    "collapsed": false,
    "deletable": true,
    "editable": true,
    "scrolled": true
   },
   "outputs": [],
   "source": [
    "centers = pd.read_csv('data/citys.csv', header=None)\n",
    "centers = list(centers[0])"
   ]
  },
  {
   "cell_type": "code",
   "execution_count": 214,
   "metadata": {
    "collapsed": false,
    "deletable": true,
    "editable": true
   },
   "outputs": [],
   "source": [
    "centers_persp = pd.read_excel('data/citys_200400.xlsx', sheetname='Перспективный парк МВЛ', header=None)"
   ]
  },
  {
   "cell_type": "code",
   "execution_count": 228,
   "metadata": {
    "collapsed": true,
    "deletable": true,
    "editable": true
   },
   "outputs": [],
   "source": [
    "centers_existing = pd.read_excel('data/citys_200400.xlsx', sheetname='Существующий парк МВЛ', header=None)"
   ]
  },
  {
   "cell_type": "code",
   "execution_count": 221,
   "metadata": {
    "collapsed": true,
    "deletable": true,
    "editable": true
   },
   "outputs": [],
   "source": [
    "centers = list(centers_persp[0])\n",
    "radius = list(centers_persp[1])"
   ]
  },
  {
   "cell_type": "code",
   "execution_count": 229,
   "metadata": {
    "collapsed": true,
    "deletable": true,
    "editable": true
   },
   "outputs": [],
   "source": [
    "centers = list(centers_existing[0])\n",
    "radius = list(centers_existing[1])"
   ]
  },
  {
   "cell_type": "code",
   "execution_count": 230,
   "metadata": {
    "collapsed": false,
    "deletable": true,
    "editable": true,
    "scrolled": true
   },
   "outputs": [
    {
     "name": "stderr",
     "output_type": "stream",
     "text": [
      "100%|██████████| 13/13 [00:01<00:00, 10.94it/s]\n"
     ]
    }
   ],
   "source": [
    "center_coords = get_coord(centers)"
   ]
  },
  {
   "cell_type": "code",
   "execution_count": 222,
   "metadata": {
    "collapsed": true,
    "deletable": true,
    "editable": true
   },
   "outputs": [],
   "source": [
    "circles_perspective_various = add_circles(center_coords, radius)"
   ]
  },
  {
   "cell_type": "code",
   "execution_count": 226,
   "metadata": {
    "collapsed": true,
    "deletable": true,
    "editable": true
   },
   "outputs": [],
   "source": [
    "circles_perspective_400 = add_circles(center_coords, 400)"
   ]
  },
  {
   "cell_type": "code",
   "execution_count": 231,
   "metadata": {
    "collapsed": true,
    "deletable": true,
    "editable": true
   },
   "outputs": [],
   "source": [
    "circles_existing_various = add_circles(center_coords, radius)"
   ]
  },
  {
   "cell_type": "code",
   "execution_count": 232,
   "metadata": {
    "collapsed": true,
    "deletable": true,
    "editable": true
   },
   "outputs": [],
   "source": [
    "circles_existing_400 = add_circles(center_coords, 400)"
   ]
  },
  {
   "cell_type": "code",
   "execution_count": 234,
   "metadata": {
    "collapsed": true,
    "deletable": true,
    "editable": true
   },
   "outputs": [],
   "source": [
    "with open(out_dir + '/circles_existing_400.geojson', 'w') as jfile:\n",
    "    json.dump(circles_existing_400, jfile)"
   ]
  },
  {
   "cell_type": "code",
   "execution_count": 157,
   "metadata": {
    "collapsed": false,
    "deletable": true,
    "editable": true
   },
   "outputs": [],
   "source": [
    "test = add_circles(center_coords, 150)"
   ]
  },
  {
   "cell_type": "code",
   "execution_count": 158,
   "metadata": {
    "collapsed": true,
    "deletable": true,
    "editable": true
   },
   "outputs": [],
   "source": [
    "test1 = add_circles(center_coords, 400)"
   ]
  },
  {
   "cell_type": "raw",
   "metadata": {
    "collapsed": true,
    "deletable": true,
    "editable": true
   },
   "source": [
    "droms = pd.read_csv('droms_final.csv')\n",
    "with open('circles.json', 'r') as jfile:\n",
    "    test = json.load(jfile)\n",
    "hospitals = pd.read_csv('hostpitals_final.csv')\n",
    "aglom_df = pd.read_csv('agloms_final.csv')"
   ]
  },
  {
   "cell_type": "code",
   "execution_count": 238,
   "metadata": {
    "collapsed": false,
    "deletable": true,
    "editable": true
   },
   "outputs": [],
   "source": [
    "m1 = jupgmaps.Map()\n",
    "# hosp = jupgmaps.symbol_layer(\n",
    "#     hospitals[['lat', 'lon']], fill_color='red', stroke_color='red', scale=2)\n",
    "circle_layer = jupgmaps.geojson_layer(circles_perspective_various)\n",
    "# aero = jupgmaps.symbol_layer(\n",
    "#     droms[['lat', 'lon']], fill_color=\"blue\", stroke_color=\"blue\", scale=2)\n",
    "\n",
    "# m1.add_layer(aero)\n",
    "# heatmap_layer = jupgmaps.heatmap_layer(aglom_df[['lat','long']], weights=aglom_df['class'], point_radius=15) #, max_intensity=np.mean(df.iloc[:10].dens))\n",
    "# m1.add_layer(hosp)\n",
    "m1.add_layer(circle_layer)\n",
    "# m1.add_layer(heatmap_layer)"
   ]
  },
  {
   "cell_type": "markdown",
   "metadata": {
    "deletable": true,
    "editable": true
   },
   "source": [
    "### Расчет покрытия"
   ]
  },
  {
   "cell_type": "code",
   "execution_count": 75,
   "metadata": {
    "collapsed": false,
    "deletable": true,
    "editable": true
   },
   "outputs": [],
   "source": [
    "pd.options.display.max_columns = 25\n",
    "pd.options.display.max_columns = 300"
   ]
  },
  {
   "cell_type": "code",
   "execution_count": 122,
   "metadata": {
    "collapsed": false,
    "deletable": true,
    "editable": true
   },
   "outputs": [],
   "source": [
    "aglom_df = aglom_df.reset_index()\n",
    "del aglom_df['index']"
   ]
  },
  {
   "cell_type": "code",
   "execution_count": 123,
   "metadata": {
    "collapsed": true,
    "deletable": true,
    "editable": true
   },
   "outputs": [],
   "source": [
    "aglom_coords = [tuple(x) for x in aglom_df[['lat', 'long']].values]"
   ]
  },
  {
   "cell_type": "code",
   "execution_count": 63,
   "metadata": {
    "collapsed": false,
    "deletable": true,
    "editable": true
   },
   "outputs": [
    {
     "data": {
      "text/plain": [
       "[8326018.0, 23521137.0, 7427609.0, 715600.0, 656765.0]"
      ]
     },
     "execution_count": 63,
     "metadata": {},
     "output_type": "execute_result"
    }
   ],
   "source": [
    "coverage"
   ]
  },
  {
   "cell_type": "code",
   "execution_count": 141,
   "metadata": {
    "collapsed": false,
    "deletable": true,
    "editable": true
   },
   "outputs": [],
   "source": [
    "agloms_ids = list(set(agloms_covered))"
   ]
  },
  {
   "cell_type": "code",
   "execution_count": 88,
   "metadata": {
    "collapsed": false,
    "deletable": true,
    "editable": true
   },
   "outputs": [
    {
     "data": {
      "text/plain": [
       "0.00037820842759853643"
      ]
     },
     "execution_count": 88,
     "metadata": {},
     "output_type": "execute_result"
    }
   ],
   "source": [
    "aglom_df.iloc[agloms_ids]['pop'].sum() / aglom_df['pop'].sum()"
   ]
  },
  {
   "cell_type": "code",
   "execution_count": 89,
   "metadata": {
    "collapsed": false,
    "deletable": true,
    "editable": true
   },
   "outputs": [
    {
     "data": {
      "text/plain": [
       "0.00026902885292047853"
      ]
     },
     "execution_count": 89,
     "metadata": {},
     "output_type": "execute_result"
    }
   ],
   "source": [
    "aglom_df.iloc[agloms_ids]['pop'].sum() / 142100000"
   ]
  },
  {
   "cell_type": "code",
   "execution_count": 150,
   "metadata": {
    "collapsed": false,
    "deletable": true,
    "editable": true
   },
   "outputs": [
    {
     "data": {
      "text/plain": [
       "1208"
      ]
     },
     "execution_count": 150,
     "metadata": {},
     "output_type": "execute_result"
    }
   ],
   "source": [
    "len(hospitals)"
   ]
  },
  {
   "cell_type": "code",
   "execution_count": 115,
   "metadata": {
    "collapsed": false,
    "deletable": true,
    "editable": true
   },
   "outputs": [],
   "source": [
    "centers_list = ['Москва', 'Брянск', 'Санкт-Петербург', 'Сыктывкар', 'Волгоград', 'Краснодар', 'Нижний Новгород', 'Оренбург', 'Пермь', 'Саратов', 'Салехард', 'Тюмень', 'Хатанга', 'Красноярск', 'Горно-Алтайск', 'Кызыл', 'Хабаровск', 'Петропавловск-Камчатский']"
   ]
  },
  {
   "cell_type": "code",
   "execution_count": 243,
   "metadata": {
    "collapsed": false,
    "deletable": true,
    "editable": true
   },
   "outputs": [
    {
     "name": "stderr",
     "output_type": "stream",
     "text": [
      "100%|██████████| 46/46 [00:04<00:00,  9.30it/s]\n"
     ]
    }
   ],
   "source": [
    "# name = 'data/citys.csv'\n",
    "# centers = pd.read_csv('data/citys.csv', header=None)\n",
    "aglom_coords = [tuple(x) for x in aglom_df[['lat', 'long']].values]\n",
    "# centers_list = list(centers[0])\n",
    "center_coords = get_coord(centers_list)\n",
    "r = 400\n",
    "agloms_covered = []\n",
    "coverage = []\n",
    "agloms_counted = set()\n",
    "for point in center_coords:\n",
    "    agloms_covered = [i for i,x in enumerate(aglom_coords) if (vincenty(point, x).km <= r) and not(i in agloms_counted)]\n",
    "    agloms_counted |= set(agloms_covered)\n",
    "    coverage += [aglom_df.iloc[agloms_covered]['pop'].sum()]\n",
    "# centers['coverage'] = coverage"
   ]
  },
  {
   "cell_type": "code",
   "execution_count": 244,
   "metadata": {
    "collapsed": false,
    "deletable": true,
    "editable": true,
    "scrolled": true
   },
   "outputs": [
    {
     "data": {
      "text/plain": [
       "96716481.0"
      ]
     },
     "execution_count": 244,
     "metadata": {},
     "output_type": "execute_result"
    }
   ],
   "source": [
    "pd.DataFrame({'center':centers_list, 'coverage':coverage}).coverage.sum() #/ aglom_df['pop'].sum()"
   ]
  },
  {
   "cell_type": "markdown",
   "metadata": {
    "deletable": true,
    "editable": true
   },
   "source": [
    "по названию субъекта сколько больниц и сколько аэродромов"
   ]
  },
  {
   "cell_type": "code",
   "execution_count": 139,
   "metadata": {
    "collapsed": false,
    "deletable": true,
    "editable": true
   },
   "outputs": [],
   "source": [
    "aglom_df.groupby('region').size().to_csv('aglom_region_count.csv', encoding='utf-8')"
   ]
  },
  {
   "cell_type": "code",
   "execution_count": 149,
   "metadata": {
    "collapsed": false,
    "deletable": true,
    "editable": true,
    "scrolled": true
   },
   "outputs": [
    {
     "name": "stdout",
     "output_type": "stream",
     "text": [
      "ул.Центральная, 1, лит.Л, рп Краснообск, дом, Novosibirsk Oblast, Russia, 630501\n",
      "Botanicheskaya ul., 2 А, Minusinsk, Krasnoyarsk Krai, Russia, 662606\n",
      "ul. Pushkina, 1, Belyy Yar, Republic of Khakassia, Russia\n",
      "Юности ул., 1-а, с. Краснотуранское, Krasnoyarsk Krai, Russia, 662660\n",
      "Советская ул., 14, Idrinskoye, Krasnoyarsk Krai, Russia, 662680\n",
      "pr. Shakhterov, 113, Kemerovo, Kemerovo Oblast, Russia, 650002\n",
      "ул. Революционеров, д. 7, Belebey, Republic of Bashkortostan, Russia, 452000\n",
      "Школьная ул., 29, пос. Ермекеево, Republic of Bashkortostan, Russia, 452190\n",
      "ul. Pushkina, 17a, Bizhbulyak, Russia\n",
      "Центральная ул., 6, Похвистневский р-н, Старомансуркино с., Samara Oblast, Russia, 446475\n",
      "Sovetskaya ul., 39, Kumertau, Republic of Bashkortostan, Russia, 453300\n",
      "Svetlaya ul., 12, Kinel', Samara Oblast, Russia, 446436\n"
     ]
    }
   ],
   "source": [
    "for i, elem in enumerate(hospitals.adr):\n",
    "    print(elem)\n",
    "    if i>10:a\n",
    "        break"
   ]
  },
  {
   "cell_type": "markdown",
   "metadata": {
    "deletable": true,
    "editable": true
   },
   "source": [
    "#### Аэродромы около больниц"
   ]
  },
  {
   "cell_type": "code",
   "execution_count": null,
   "metadata": {
    "collapsed": true,
    "deletable": true,
    "editable": true
   },
   "outputs": [],
   "source": [
    "agloms_covered = [i for i,x in enumerate(aglom_coords) if ((vincenty(point, x).km <= r) and not(i in agloms_counted))]"
   ]
  },
  {
   "cell_type": "code",
   "execution_count": 124,
   "metadata": {
    "collapsed": true,
    "deletable": true,
    "editable": true
   },
   "outputs": [],
   "source": [
    "droms_coords = [tuple(x) for x in droms[droms['Принадлежность'].isin(aero_types)][['lat', 'lon']].values]"
   ]
  },
  {
   "cell_type": "code",
   "execution_count": 290,
   "metadata": {
    "collapsed": false,
    "deletable": true,
    "editable": true
   },
   "outputs": [],
   "source": [
    "hospitals = hosp_google"
   ]
  },
  {
   "cell_type": "code",
   "execution_count": 293,
   "metadata": {
    "collapsed": false,
    "deletable": true,
    "editable": true
   },
   "outputs": [],
   "source": [
    "hospitals['drom_count'] = 0"
   ]
  },
  {
   "cell_type": "code",
   "execution_count": 294,
   "metadata": {
    "collapsed": false,
    "deletable": true,
    "editable": true
   },
   "outputs": [],
   "source": [
    "r = 5\n",
    "def func(row):\n",
    "    return len([i for i,x in enumerate(droms_coords) if (vincenty((row['lat'],row['lon']), x).km <= r)])\n",
    "hospitals['drom_count_5km'] = hospitals.apply(func, axis=1)"
   ]
  },
  {
   "cell_type": "code",
   "execution_count": 126,
   "metadata": {
    "collapsed": true,
    "deletable": true,
    "editable": true
   },
   "outputs": [],
   "source": [
    "hospitals[hospitals['drom_count_5km']>0].to_excel('hosp_aero_5km.xlsx', index=None)"
   ]
  },
  {
   "cell_type": "code",
   "execution_count": 127,
   "metadata": {
    "collapsed": false,
    "deletable": true,
    "editable": true
   },
   "outputs": [
    {
     "data": {
      "text/plain": [
       "lon               2\n",
       "lat               2\n",
       "adr               2\n",
       "name              2\n",
       "drom_count_5km    2\n",
       "dtype: int64"
      ]
     },
     "execution_count": 127,
     "metadata": {},
     "output_type": "execute_result"
    }
   ],
   "source": [
    "hospitals[hospitals['drom_count_5km']>4].count()"
   ]
  },
  {
   "cell_type": "code",
   "execution_count": 249,
   "metadata": {
    "collapsed": false,
    "deletable": true,
    "editable": true
   },
   "outputs": [],
   "source": [
    "to_count = pd.read_excel('data/aglom.xlsx', header=None)\n",
    "del to_count[1]"
   ]
  },
  {
   "cell_type": "code",
   "execution_count": 250,
   "metadata": {
    "collapsed": false,
    "deletable": true,
    "editable": true
   },
   "outputs": [],
   "source": [
    "to_count.columns = ['aglom', 'rad', 'id']"
   ]
  },
  {
   "cell_type": "code",
   "execution_count": 280,
   "metadata": {
    "collapsed": false,
    "deletable": true,
    "editable": true
   },
   "outputs": [],
   "source": [
    "data = to_count[(to_count.id == 1)]# | (to_count.id == 2)]#| (to_count.id == 3)]\n",
    "centers_list = list(data.aglom)\n",
    "rad_list = list(data.rad)"
   ]
  },
  {
   "cell_type": "code",
   "execution_count": 281,
   "metadata": {
    "collapsed": false,
    "deletable": true,
    "editable": true,
    "scrolled": true
   },
   "outputs": [
    {
     "name": "stderr",
     "output_type": "stream",
     "text": [
      "100%|██████████| 28/28 [00:03<00:00,  9.27it/s]"
     ]
    },
    {
     "name": "stdout",
     "output_type": "stream",
     "text": [
      "0.406844689074\n"
     ]
    },
    {
     "name": "stderr",
     "output_type": "stream",
     "text": [
      "\n"
     ]
    }
   ],
   "source": [
    "# name = 'data/citys.csv'\n",
    "# centers = pd.read_csv('data/citys.csv', header=None)\n",
    "aglom_coords = [tuple(x) for x in aglom_df[['lat', 'long']].values]\n",
    "# centers_list = list(centers[0])\n",
    "center_coords = get_coord(centers_list)\n",
    "# r = 400\n",
    "agloms_covered = []\n",
    "coverage = []\n",
    "agloms_counted = set()\n",
    "for j, point in enumerate(center_coords):\n",
    "    agloms_covered += [i for i,x in enumerate(aglom_coords) if (vincenty(point, x).km <= float(rad_list[j]))]\n",
    "agloms_counted = set(agloms_covered)\n",
    "#     coverage += [aglom_df.iloc[agloms_covered]['pop'].sum()]\n",
    "# centers['coverage'] = coverage\n",
    "print(aglom_df.iloc[list(agloms_counted)]['pop'].sum() / aglom_df['pop'].sum())"
   ]
  },
  {
   "cell_type": "markdown",
   "metadata": {
    "deletable": true,
    "editable": true
   },
   "source": [
    "### Вызов оптимизационных библиотек"
   ]
  },
  {
   "cell_type": "code",
   "execution_count": 1,
   "metadata": {
    "collapsed": true,
    "deletable": true,
    "editable": true
   },
   "outputs": [],
   "source": [
    "from scipy import optimize"
   ]
  },
  {
   "cell_type": "code",
   "execution_count": 9,
   "metadata": {
    "collapsed": false,
    "deletable": true,
    "editable": true
   },
   "outputs": [
    {
     "name": "stderr",
     "output_type": "stream",
     "text": [
      "100%|██████████| 100/100 [01:42<00:00,  1.02s/it]\n"
     ]
    }
   ],
   "source": [
    "model = optimize.coverage_model()\n",
    "model.add(aglom_df)\n",
    "model.add(droms)\n",
    "model.add(features_df)\n",
    "model.add(hospitals)\n",
    "model.optimize()"
   ]
  },
  {
   "cell_type": "markdown",
   "metadata": {
    "deletable": true,
    "editable": true
   },
   "source": [
    "### Выгрузка данных ислледования для веб-приложения"
   ]
  },
  {
   "cell_type": "code",
   "execution_count": 112,
   "metadata": {
    "collapsed": true,
    "deletable": true,
    "editable": true
   },
   "outputs": [],
   "source": [
    "out_dir = '/home/ubuntu/maps_webapp/static/data/'"
   ]
  },
  {
   "cell_type": "raw",
   "metadata": {
    "deletable": true,
    "editable": true
   },
   "source": [
    "{coords: [50.5, 30.5], text: 'blabla'}\n",
    "[50.5, 30.5, 0.2], // lat, lng, intensit"
   ]
  },
  {
   "cell_type": "code",
   "execution_count": 18,
   "metadata": {
    "collapsed": true,
    "deletable": true,
    "editable": true
   },
   "outputs": [],
   "source": [
    "def df_to_json(df, text, fname):\n",
    "    out_dir = '/home/ubuntu/maps_webapp/static/data'\n",
    "    jdata = []\n",
    "    df = df[['lat', 'lon', text, 'region_code']]\n",
    "    for i, row in df.iterrows():\n",
    "        jdata += [{'coords':[row.lat, row.lon], 'text': row[text]}]\n",
    "    with open(out_dir + '/{}'.format(fname), 'w') as outfile:\n",
    "        json.dump(jdata, outfile)"
   ]
  },
  {
   "cell_type": "code",
   "execution_count": 19,
   "metadata": {
    "collapsed": true,
    "deletable": true,
    "editable": true
   },
   "outputs": [],
   "source": [
    "def df_to_json_hm(df, value_name, fname):\n",
    "    out_dir = '/home/ubuntu/maps_webapp/static/data'\n",
    "    jdata = []\n",
    "    df = df[['lat', 'lon', value_name]]\n",
    "    for i, row in df.iterrows():\n",
    "        jdata += [[row.lat, row.lon, row[value_name]]]\n",
    "    with open(out_dir + '/{}'.format(fname), 'w') as outfile:\n",
    "        json.dump(jdata, outfile)"
   ]
  },
  {
   "cell_type": "code",
   "execution_count": 363,
   "metadata": {
    "collapsed": false,
    "deletable": true,
    "editable": true
   },
   "outputs": [],
   "source": [
    "df_to_json(hospitals, 'name', 'hospitals_data.json')"
   ]
  },
  {
   "cell_type": "code",
   "execution_count": 368,
   "metadata": {
    "collapsed": false,
    "deletable": true,
    "editable": true
   },
   "outputs": [
    {
     "data": {
      "text/html": [
       "<div>\n",
       "<table border=\"1\" class=\"dataframe\">\n",
       "  <thead>\n",
       "    <tr style=\"text-align: right;\">\n",
       "      <th></th>\n",
       "      <th>Unnamed: 0</th>\n",
       "      <th>city</th>\n",
       "      <th>region</th>\n",
       "      <th>lat</th>\n",
       "      <th>long</th>\n",
       "      <th>pop</th>\n",
       "      <th>airp</th>\n",
       "      <th>dist</th>\n",
       "      <th>class</th>\n",
       "    </tr>\n",
       "  </thead>\n",
       "  <tbody>\n",
       "    <tr>\n",
       "      <th>0</th>\n",
       "      <td>0</td>\n",
       "      <td>Сосьва ТЮМ</td>\n",
       "      <td>Тюменская область</td>\n",
       "      <td>63.650000</td>\n",
       "      <td>62.100000</td>\n",
       "      <td>983.0</td>\n",
       "      <td>94 км</td>\n",
       "      <td>79.490370</td>\n",
       "      <td>0.0</td>\n",
       "    </tr>\n",
       "    <tr>\n",
       "      <th>1</th>\n",
       "      <td>1</td>\n",
       "      <td>Абакан</td>\n",
       "      <td>Республика Хакасия</td>\n",
       "      <td>53.716000</td>\n",
       "      <td>91.400000</td>\n",
       "      <td>165700.0</td>\n",
       "      <td>Абакан</td>\n",
       "      <td>2.845272</td>\n",
       "      <td>0.8</td>\n",
       "    </tr>\n",
       "    <tr>\n",
       "      <th>2</th>\n",
       "      <td>2</td>\n",
       "      <td>Черногорск</td>\n",
       "      <td>Республика Хакасия</td>\n",
       "      <td>53.816667</td>\n",
       "      <td>91.283333</td>\n",
       "      <td>74800.0</td>\n",
       "      <td>Абакан</td>\n",
       "      <td>10.830461</td>\n",
       "      <td>0.6</td>\n",
       "    </tr>\n",
       "  </tbody>\n",
       "</table>\n",
       "</div>"
      ],
      "text/plain": [
       "   Unnamed: 0        city              region        lat       long       pop    airp       dist  class\n",
       "0           0  Сосьва ТЮМ   Тюменская область  63.650000  62.100000     983.0   94 км  79.490370    0.0\n",
       "1           1      Абакан  Республика Хакасия  53.716000  91.400000  165700.0  Абакан   2.845272    0.8\n",
       "2           2  Черногорск  Республика Хакасия  53.816667  91.283333   74800.0  Абакан  10.830461    0.6"
      ]
     },
     "execution_count": 368,
     "metadata": {},
     "output_type": "execute_result"
    }
   ],
   "source": [
    "aglom_df.head(3)"
   ]
  },
  {
   "cell_type": "code",
   "execution_count": 24,
   "metadata": {
    "collapsed": false,
    "deletable": true,
    "editable": true
   },
   "outputs": [],
   "source": [
    "df_to_json_hm(aglom_df, 'class', 'agloms_data.json')"
   ]
  },
  {
   "cell_type": "code",
   "execution_count": 33,
   "metadata": {
    "collapsed": false,
    "deletable": true,
    "editable": true
   },
   "outputs": [],
   "source": [
    "df_to_json(droms[droms['Тип'] == 'Вертодром'], 'Название', 'vertodrom.json')"
   ]
  },
  {
   "cell_type": "code",
   "execution_count": 34,
   "metadata": {
    "collapsed": true,
    "deletable": true,
    "editable": true
   },
   "outputs": [],
   "source": [
    "df_to_json(droms[droms['Тип'] == 'Аэродром'], 'Название', 'aerodrom.json')"
   ]
  },
  {
   "cell_type": "code",
   "execution_count": 160,
   "metadata": {
    "collapsed": false,
    "deletable": true,
    "editable": true
   },
   "outputs": [],
   "source": [
    "with open(out_dir + '/circles_200.geojson', 'w') as jfile:\n",
    "    json.dump(test, jfile)"
   ]
  },
  {
   "cell_type": "code",
   "execution_count": 161,
   "metadata": {
    "collapsed": true,
    "deletable": true,
    "editable": true
   },
   "outputs": [],
   "source": [
    "with open(out_dir + '/circles_400.geojson', 'w') as jfile:\n",
    "    json.dump(test1, jfile)"
   ]
  },
  {
   "cell_type": "code",
   "execution_count": 241,
   "metadata": {
    "collapsed": true,
    "deletable": true,
    "editable": true
   },
   "outputs": [],
   "source": [
    "jdata = []\n",
    "for row in center_coords:\n",
    "    jdata += [{'coord':[row[0], row[1]], 'region':get_region(row)}]\n",
    "with open(out_dir + '/base_points_existing.json', 'w') as outfile:\n",
    "    json.dump(jdata, outfile)"
   ]
  },
  {
   "cell_type": "code",
   "execution_count": 55,
   "metadata": {
    "collapsed": true,
    "deletable": true,
    "editable": true
   },
   "outputs": [],
   "source": [
    "df_to_json_hm(aglom_df, 'pop', 'nasel_punkt.json')"
   ]
  },
  {
   "cell_type": "code",
   "execution_count": 302,
   "metadata": {
    "collapsed": false,
    "deletable": true,
    "editable": true,
    "scrolled": true
   },
   "outputs": [
    {
     "name": "stderr",
     "output_type": "stream",
     "text": [
      "/home/ubuntu/.local/lib/python3.5/site-packages/ipykernel/__main__.py:6: FutureWarning: reshape is deprecated and will raise in a subsequent release. Please use .values.reshape(...) instead\n",
      "/home/ubuntu/.local/lib/python3.5/site-packages/sklearn/utils/validation.py:429: DataConversionWarning: Data with input dtype int64 was converted to float64 by MinMaxScaler.\n",
      "  warnings.warn(msg, _DataConversionWarning)\n"
     ]
    }
   ],
   "source": [
    "merged_new = pd.read_csv('merged_citys_w_codes.csv', dtype={'region_code':str}, index_col=[0])\n",
    "merged_new = merged_new.rename(columns={'total':'pop'})\n",
    "merged_new['class'] = 0\n",
    "merged_new = merged_new.apply(lambda x: popul(x), axis=1)\n",
    "scaler = MinMaxScaler()\n",
    "merged_new['class'] = scaler.fit_transform(merged_new['class'].reshape(-1, 1))"
   ]
  },
  {
   "cell_type": "code",
   "execution_count": 193,
   "metadata": {
    "collapsed": true,
    "deletable": true,
    "editable": true
   },
   "outputs": [],
   "source": [
    "merged_new['region_code'] = merged_new['region_code'].fillna(-1)"
   ]
  },
  {
   "cell_type": "code",
   "execution_count": 74,
   "metadata": {
    "collapsed": false,
    "deletable": true,
    "editable": true
   },
   "outputs": [],
   "source": [
    "df_to_json_hm(merged_new.dropna(subset=['pop', 'lat', 'lon']), 'class', 'heatmap.json')"
   ]
  },
  {
   "cell_type": "code",
   "execution_count": 195,
   "metadata": {
    "collapsed": false,
    "deletable": true,
    "editable": true
   },
   "outputs": [
    {
     "data": {
      "text/plain": [
       "'Dasdas'"
      ]
     },
     "execution_count": 195,
     "metadata": {},
     "output_type": "execute_result"
    }
   ],
   "source": [
    "'dasdas'.capitalize()"
   ]
  },
  {
   "cell_type": "code",
   "execution_count": 303,
   "metadata": {
    "collapsed": false,
    "deletable": true,
    "editable": true
   },
   "outputs": [],
   "source": [
    "jdata = []\n",
    "# merged_new = merged_new[['lat', 'lon', 'name', 'region_code', 'total']]\n",
    "for i, row in merged_new.dropna(subset=['pop', 'lat', 'lon', 'region_code']).iterrows():\n",
    "    jdata += [{'coords':[row.lat, row.lon], 'name': row['name'].capitalize(), 'region': \n",
    "               row['region_code'], 'popul':row['pop'], 'class': row['class']}]\n",
    "with open(out_dir + '/{}'.format('nasel_punkt2.json'), 'w') as outfile:\n",
    "    json.dump(jdata, outfile)"
   ]
  },
  {
   "cell_type": "code",
   "execution_count": 209,
   "metadata": {
    "collapsed": false,
    "deletable": true,
    "editable": true
   },
   "outputs": [],
   "source": [
    "hospitals['region'] = hospitals.apply(lambda x: get_region(x), axis=1)"
   ]
  },
  {
   "cell_type": "code",
   "execution_count": 210,
   "metadata": {
    "collapsed": false,
    "deletable": true,
    "editable": true
   },
   "outputs": [
    {
     "data": {
      "text/html": [
       "<div>\n",
       "<table border=\"1\" class=\"dataframe\">\n",
       "  <thead>\n",
       "    <tr style=\"text-align: right;\">\n",
       "      <th></th>\n",
       "      <th>lon</th>\n",
       "      <th>lat</th>\n",
       "      <th>adr</th>\n",
       "      <th>name</th>\n",
       "      <th>region</th>\n",
       "    </tr>\n",
       "  </thead>\n",
       "  <tbody>\n",
       "    <tr>\n",
       "      <th>1196</th>\n",
       "      <td>43.656667</td>\n",
       "      <td>46.563056</td>\n",
       "      <td>Sovetskaya ul., 72, Ремонтненский р-н, с. Ремо...</td>\n",
       "      <td>Tsentralnaya Rayonnaya Bolnitsa, Muz</td>\n",
       "      <td>61</td>\n",
       "    </tr>\n",
       "    <tr>\n",
       "      <th>1197</th>\n",
       "      <td>142.514276</td>\n",
       "      <td>46.720685</td>\n",
       "      <td>Aniva, Sakhalin Oblast, Russia, 694030</td>\n",
       "      <td>Центральная Районная Больница</td>\n",
       "      <td>65</td>\n",
       "    </tr>\n",
       "    <tr>\n",
       "      <th>1198</th>\n",
       "      <td>34.134521</td>\n",
       "      <td>44.961620</td>\n",
       "      <td>ул. Луговая, Симферополь, Крым, 95000</td>\n",
       "      <td>Симферопольская районная больница</td>\n",
       "      <td>91</td>\n",
       "    </tr>\n",
       "    <tr>\n",
       "      <th>1199</th>\n",
       "      <td>33.491104</td>\n",
       "      <td>44.604426</td>\n",
       "      <td>ул. Ерошенко, 15, Севастополь, 99000</td>\n",
       "      <td>Городская больница №2</td>\n",
       "      <td>92</td>\n",
       "    </tr>\n",
       "    <tr>\n",
       "      <th>1200</th>\n",
       "      <td>33.864203</td>\n",
       "      <td>45.710647</td>\n",
       "      <td>ул. Ленина, 162, Первомайское, Крым, 96301</td>\n",
       "      <td>Первомайская центральная районная больница</td>\n",
       "      <td>91</td>\n",
       "    </tr>\n",
       "  </tbody>\n",
       "</table>\n",
       "</div>"
      ],
      "text/plain": [
       "             lon        lat  \\\n",
       "1196   43.656667  46.563056   \n",
       "1197  142.514276  46.720685   \n",
       "1198   34.134521  44.961620   \n",
       "1199   33.491104  44.604426   \n",
       "1200   33.864203  45.710647   \n",
       "\n",
       "                                                    adr  \\\n",
       "1196  Sovetskaya ul., 72, Ремонтненский р-н, с. Ремо...   \n",
       "1197             Aniva, Sakhalin Oblast, Russia, 694030   \n",
       "1198              ул. Луговая, Симферополь, Крым, 95000   \n",
       "1199               ул. Ерошенко, 15, Севастополь, 99000   \n",
       "1200         ул. Ленина, 162, Первомайское, Крым, 96301   \n",
       "\n",
       "                                            name region  \n",
       "1196        Tsentralnaya Rayonnaya Bolnitsa, Muz     61  \n",
       "1197               Центральная Районная Больница     65  \n",
       "1198           Симферопольская районная больница     91  \n",
       "1199                       Городская больница №2     92  \n",
       "1200  Первомайская центральная районная больница     91  "
      ]
     },
     "execution_count": 210,
     "metadata": {},
     "output_type": "execute_result"
    }
   ],
   "source": [
    "hospitals.tail()"
   ]
  },
  {
   "cell_type": "code",
   "execution_count": 297,
   "metadata": {
    "collapsed": false,
    "deletable": true,
    "editable": true
   },
   "outputs": [],
   "source": [
    "jdata = []\n",
    "# merged_new = merged_new[['lat', 'lon', 'name', 'region_code', 'total']]\n",
    "for i, row in hospitals.iterrows():\n",
    "    jdata += [{'coords':[row.lat, row.lon], 'name': row['name'], 'region': row['region'], 'droms': row['drom_count_5km']}]\n",
    "with open(out_dir + '/{}'.format('hospitals_new.json'), 'w') as outfile:\n",
    "    json.dump(jdata, outfile)"
   ]
  },
  {
   "cell_type": "code",
   "execution_count": 243,
   "metadata": {
    "collapsed": false,
    "deletable": true,
    "editable": true
   },
   "outputs": [
    {
     "name": "stderr",
     "output_type": "stream",
     "text": [
      "100%|██████████| 1/1 [00:00<00:00,  1.21it/s]\n"
     ]
    },
    {
     "data": {
      "text/plain": [
       "[(51.9599118, 85.9185085)]"
      ]
     },
     "execution_count": 243,
     "metadata": {},
     "output_type": "execute_result"
    }
   ],
   "source": [
    "get_coord(['Коммунистический просп., 140, Горно-Алтайск, Респ. Алтай, 649002'])"
   ]
  },
  {
   "cell_type": "code",
   "execution_count": 282,
   "metadata": {
    "collapsed": true,
    "deletable": true,
    "editable": true
   },
   "outputs": [],
   "source": [
    "hosp_hole = pd.read_excel('data/недостающие_больницы.xlsx', header=None)"
   ]
  },
  {
   "cell_type": "code",
   "execution_count": 283,
   "metadata": {
    "collapsed": false,
    "deletable": true,
    "editable": true,
    "scrolled": true
   },
   "outputs": [
    {
     "data": {
      "text/html": [
       "<div>\n",
       "<table border=\"1\" class=\"dataframe\">\n",
       "  <thead>\n",
       "    <tr style=\"text-align: right;\">\n",
       "      <th></th>\n",
       "      <th>adr</th>\n",
       "      <th>lat</th>\n",
       "      <th>lon</th>\n",
       "      <th>name</th>\n",
       "      <th>region</th>\n",
       "      <th>drom_count</th>\n",
       "      <th>drom_count_5km</th>\n",
       "    </tr>\n",
       "  </thead>\n",
       "  <tbody>\n",
       "    <tr>\n",
       "      <th>0</th>\n",
       "      <td>ул.Центральная, 1, лит.Л, рп Краснообск, дом, ...</td>\n",
       "      <td>54.925320</td>\n",
       "      <td>82.988110</td>\n",
       "      <td>Novosibirskaya tsentralnaya rayonnaya bolnitsa...</td>\n",
       "      <td>54</td>\n",
       "      <td>0</td>\n",
       "      <td>0</td>\n",
       "    </tr>\n",
       "    <tr>\n",
       "      <th>1</th>\n",
       "      <td>Botanicheskaya ul., 2 А, Minusinsk, Krasnoyars...</td>\n",
       "      <td>53.702327</td>\n",
       "      <td>91.667979</td>\n",
       "      <td>Minusinskoye TsRB</td>\n",
       "      <td>24</td>\n",
       "      <td>0</td>\n",
       "      <td>0</td>\n",
       "    </tr>\n",
       "    <tr>\n",
       "      <th>2</th>\n",
       "      <td>ul. Pushkina, 1, Belyy Yar, Republic of Khakas...</td>\n",
       "      <td>53.601901</td>\n",
       "      <td>91.397696</td>\n",
       "      <td>Beloyarskaya Tsentralnaya Rayonnaya Bolnitsa</td>\n",
       "      <td>19</td>\n",
       "      <td>0</td>\n",
       "      <td>0</td>\n",
       "    </tr>\n",
       "    <tr>\n",
       "      <th>3</th>\n",
       "      <td>Юности ул., 1-а, с. Краснотуранское, Krasnoyar...</td>\n",
       "      <td>54.424278</td>\n",
       "      <td>91.620398</td>\n",
       "      <td>Krasnoturanskaya Tsentralnaya Rayonnaya Bolnitsa</td>\n",
       "      <td>24</td>\n",
       "      <td>0</td>\n",
       "      <td>0</td>\n",
       "    </tr>\n",
       "    <tr>\n",
       "      <th>4</th>\n",
       "      <td>Советская ул., 14, Idrinskoye, Krasnoyarsk Kra...</td>\n",
       "      <td>54.373289</td>\n",
       "      <td>92.129895</td>\n",
       "      <td>Idrinskaya Tsentralnaya Rayonnaya Bolnitsa, Muz</td>\n",
       "      <td>24</td>\n",
       "      <td>0</td>\n",
       "      <td>0</td>\n",
       "    </tr>\n",
       "  </tbody>\n",
       "</table>\n",
       "</div>"
      ],
      "text/plain": [
       "                                                 adr        lat        lon  \\\n",
       "0  ул.Центральная, 1, лит.Л, рп Краснообск, дом, ...  54.925320  82.988110   \n",
       "1  Botanicheskaya ul., 2 А, Minusinsk, Krasnoyars...  53.702327  91.667979   \n",
       "2  ul. Pushkina, 1, Belyy Yar, Republic of Khakas...  53.601901  91.397696   \n",
       "3  Юности ул., 1-а, с. Краснотуранское, Krasnoyar...  54.424278  91.620398   \n",
       "4  Советская ул., 14, Idrinskoye, Krasnoyarsk Kra...  54.373289  92.129895   \n",
       "\n",
       "                                                name region  drom_count  \\\n",
       "0  Novosibirskaya tsentralnaya rayonnaya bolnitsa...     54           0   \n",
       "1                                  Minusinskoye TsRB     24           0   \n",
       "2       Beloyarskaya Tsentralnaya Rayonnaya Bolnitsa     19           0   \n",
       "3   Krasnoturanskaya Tsentralnaya Rayonnaya Bolnitsa     24           0   \n",
       "4    Idrinskaya Tsentralnaya Rayonnaya Bolnitsa, Muz     24           0   \n",
       "\n",
       "   drom_count_5km  \n",
       "0               0  \n",
       "1               0  \n",
       "2               0  \n",
       "3               0  \n",
       "4               0  "
      ]
     },
     "execution_count": 283,
     "metadata": {},
     "output_type": "execute_result"
    }
   ],
   "source": [
    "hospitals.head()"
   ]
  },
  {
   "cell_type": "code",
   "execution_count": 284,
   "metadata": {
    "collapsed": false,
    "deletable": true,
    "editable": true
   },
   "outputs": [],
   "source": [
    "hosp_hole.columns = ['adr','name']"
   ]
  },
  {
   "cell_type": "code",
   "execution_count": 285,
   "metadata": {
    "collapsed": true,
    "deletable": true,
    "editable": true
   },
   "outputs": [],
   "source": [
    "hosp_hole['lat'] = 0.\n",
    "hosp_hole['lon'] = 0.\n",
    "hosp_hole['region'] = None"
   ]
  },
  {
   "cell_type": "code",
   "execution_count": 286,
   "metadata": {
    "collapsed": false,
    "deletable": true,
    "editable": true
   },
   "outputs": [
    {
     "name": "stderr",
     "output_type": "stream",
     "text": [
      "100%|██████████| 1/1 [00:00<00:00,  1.70it/s]\n",
      "100%|██████████| 1/1 [00:00<00:00, 33.44it/s]\n",
      "100%|██████████| 1/1 [00:00<00:00,  1.86it/s]\n",
      "100%|██████████| 1/1 [00:00<00:00,  1.40it/s]\n",
      "100%|██████████| 1/1 [00:00<00:00,  1.14it/s]\n",
      "100%|██████████| 1/1 [00:00<00:00,  1.44it/s]\n",
      "100%|██████████| 1/1 [00:00<00:00,  1.11it/s]\n",
      "100%|██████████| 1/1 [00:00<00:00,  1.59it/s]\n",
      "100%|██████████| 1/1 [00:00<00:00,  1.70it/s]\n",
      "100%|██████████| 1/1 [00:00<00:00,  1.65it/s]\n",
      "100%|██████████| 1/1 [00:00<00:00,  2.28it/s]\n",
      "100%|██████████| 1/1 [00:00<00:00,  2.13it/s]\n",
      "100%|██████████| 1/1 [00:00<00:00,  2.02it/s]\n",
      "100%|██████████| 1/1 [00:00<00:00,  1.43it/s]\n",
      "100%|██████████| 1/1 [00:00<00:00,  1.92it/s]\n",
      "100%|██████████| 1/1 [00:00<00:00,  1.26it/s]\n"
     ]
    }
   ],
   "source": [
    "def fun(x):\n",
    "    coord = get_coord([x['adr']])[0]\n",
    "    x.lat, x.lon = coord\n",
    "    return x\n",
    "hosp_hole = hosp_hole.apply(fun, axis=1).dropna(subset=['lat'])"
   ]
  },
  {
   "cell_type": "code",
   "execution_count": 288,
   "metadata": {
    "collapsed": true,
    "deletable": true,
    "editable": true
   },
   "outputs": [],
   "source": [
    "hosp_hole['region'] = hosp_hole.apply(lambda x: get_region(x), axis=1)"
   ]
  },
  {
   "cell_type": "code",
   "execution_count": 291,
   "metadata": {
    "collapsed": false,
    "deletable": true,
    "editable": true
   },
   "outputs": [],
   "source": [
    "hospitals = pd.concat([hospitals, hosp_hole], ignore_index=True)"
   ]
  },
  {
   "cell_type": "code",
   "execution_count": 295,
   "metadata": {
    "collapsed": false,
    "deletable": true,
    "editable": true
   },
   "outputs": [
    {
     "data": {
      "text/html": [
       "<div>\n",
       "<table border=\"1\" class=\"dataframe\">\n",
       "  <thead>\n",
       "    <tr style=\"text-align: right;\">\n",
       "      <th></th>\n",
       "      <th>adr</th>\n",
       "      <th>lat</th>\n",
       "      <th>lon</th>\n",
       "      <th>name</th>\n",
       "      <th>region</th>\n",
       "      <th>drom_count</th>\n",
       "      <th>drom_count_5km</th>\n",
       "    </tr>\n",
       "  </thead>\n",
       "  <tbody>\n",
       "    <tr>\n",
       "      <th>1196</th>\n",
       "      <td>Sovetskaya ul., 72, Ремонтненский р-н, с. Ремо...</td>\n",
       "      <td>46.563056</td>\n",
       "      <td>43.656667</td>\n",
       "      <td>Tsentralnaya Rayonnaya Bolnitsa, Muz</td>\n",
       "      <td>61</td>\n",
       "      <td>0</td>\n",
       "      <td>0</td>\n",
       "    </tr>\n",
       "    <tr>\n",
       "      <th>1197</th>\n",
       "      <td>Aniva, Sakhalin Oblast, Russia, 694030</td>\n",
       "      <td>46.720685</td>\n",
       "      <td>142.514276</td>\n",
       "      <td>Центральная Районная Больница</td>\n",
       "      <td>65</td>\n",
       "      <td>0</td>\n",
       "      <td>0</td>\n",
       "    </tr>\n",
       "    <tr>\n",
       "      <th>1198</th>\n",
       "      <td>ул. Луговая, Симферополь, Крым, 95000</td>\n",
       "      <td>44.961620</td>\n",
       "      <td>34.134521</td>\n",
       "      <td>Симферопольская районная больница</td>\n",
       "      <td>91</td>\n",
       "      <td>0</td>\n",
       "      <td>0</td>\n",
       "    </tr>\n",
       "    <tr>\n",
       "      <th>1199</th>\n",
       "      <td>ул. Ерошенко, 15, Севастополь, 99000</td>\n",
       "      <td>44.604426</td>\n",
       "      <td>33.491104</td>\n",
       "      <td>Городская больница №2</td>\n",
       "      <td>92</td>\n",
       "      <td>0</td>\n",
       "      <td>0</td>\n",
       "    </tr>\n",
       "    <tr>\n",
       "      <th>1200</th>\n",
       "      <td>ул. Ленина, 162, Первомайское, Крым, 96301</td>\n",
       "      <td>45.710647</td>\n",
       "      <td>33.864203</td>\n",
       "      <td>Первомайская центральная районная больница</td>\n",
       "      <td>91</td>\n",
       "      <td>0</td>\n",
       "      <td>0</td>\n",
       "    </tr>\n",
       "    <tr>\n",
       "      <th>1201</th>\n",
       "      <td>Тура, Красноярский край, 648000</td>\n",
       "      <td>64.273851</td>\n",
       "      <td>100.218793</td>\n",
       "      <td>Больница</td>\n",
       "      <td>24</td>\n",
       "      <td>0</td>\n",
       "      <td>1</td>\n",
       "    </tr>\n",
       "    <tr>\n",
       "      <th>1202</th>\n",
       "      <td>Красноармейская ул. Бодайбо Иркутская обл. Рос...</td>\n",
       "      <td>57.844973</td>\n",
       "      <td>114.187826</td>\n",
       "      <td>ОГБУЗ «Районная больница г. Бодайбо»</td>\n",
       "      <td>38</td>\n",
       "      <td>0</td>\n",
       "      <td>1</td>\n",
       "    </tr>\n",
       "    <tr>\n",
       "      <th>1203</th>\n",
       "      <td>Приисковая ул, д. 17, Могоча, Забайкальский кр...</td>\n",
       "      <td>53.739351</td>\n",
       "      <td>119.777288</td>\n",
       "      <td>Могочинская центральная районная больница, Могоча</td>\n",
       "      <td>75</td>\n",
       "      <td>0</td>\n",
       "      <td>0</td>\n",
       "    </tr>\n",
       "    <tr>\n",
       "      <th>1204</th>\n",
       "      <td>Северобайкальск, Респ. Бурятия, 671700</td>\n",
       "      <td>55.627858</td>\n",
       "      <td>109.314916</td>\n",
       "      <td>Станция скорой помощи</td>\n",
       "      <td>03</td>\n",
       "      <td>0</td>\n",
       "      <td>0</td>\n",
       "    </tr>\n",
       "    <tr>\n",
       "      <th>1205</th>\n",
       "      <td>ул. Ленина, 129, Николаевск-на-Амуре, Хабаровс...</td>\n",
       "      <td>53.140000</td>\n",
       "      <td>140.717071</td>\n",
       "      <td>Поликлиника №1</td>\n",
       "      <td>27</td>\n",
       "      <td>0</td>\n",
       "      <td>1</td>\n",
       "    </tr>\n",
       "    <tr>\n",
       "      <th>1206</th>\n",
       "      <td>40, ул. Нагаевская, г. Магадан, Магаданская об...</td>\n",
       "      <td>59.550000</td>\n",
       "      <td>150.800000</td>\n",
       "      <td>Магаданская областная больница</td>\n",
       "      <td>49</td>\n",
       "      <td>0</td>\n",
       "      <td>1</td>\n",
       "    </tr>\n",
       "    <tr>\n",
       "      <th>1207</th>\n",
       "      <td>ул. Ленина, 1, Анадырь, Чукотский автономный о...</td>\n",
       "      <td>64.734330</td>\n",
       "      <td>177.524170</td>\n",
       "      <td>ГБУЗ \" Чукотская Окружная Больница\"</td>\n",
       "      <td>87</td>\n",
       "      <td>0</td>\n",
       "      <td>1</td>\n",
       "    </tr>\n",
       "    <tr>\n",
       "      <th>1208</th>\n",
       "      <td>ул. Киевская, 69, Симферополь, Крым, 95000</td>\n",
       "      <td>44.956493</td>\n",
       "      <td>34.114485</td>\n",
       "      <td>Республиканская Клиничиская больница им. Н.И. ...</td>\n",
       "      <td>91</td>\n",
       "      <td>0</td>\n",
       "      <td>0</td>\n",
       "    </tr>\n",
       "    <tr>\n",
       "      <th>1209</th>\n",
       "      <td>Норильская ул., 12, с. Хатанга, Красноярский к...</td>\n",
       "      <td>71.981908</td>\n",
       "      <td>102.498053</td>\n",
       "      <td>Таймырская Районная Больница № 1 В С.П. Хатанга</td>\n",
       "      <td>24</td>\n",
       "      <td>0</td>\n",
       "      <td>1</td>\n",
       "    </tr>\n",
       "    <tr>\n",
       "      <th>1210</th>\n",
       "      <td>Коммунистический просп., 140, Горно-Алтайск, Р...</td>\n",
       "      <td>51.959912</td>\n",
       "      <td>85.918509</td>\n",
       "      <td>Горно-алтайская Республиканская Больница</td>\n",
       "      <td>04</td>\n",
       "      <td>0</td>\n",
       "      <td>0</td>\n",
       "    </tr>\n",
       "    <tr>\n",
       "      <th>1211</th>\n",
       "      <td>ул. Ляпидевского, 2, Барнаул, Алтайский край, ...</td>\n",
       "      <td>53.305294</td>\n",
       "      <td>83.762069</td>\n",
       "      <td>КГБУЗ Краевая клиническая больница</td>\n",
       "      <td>22</td>\n",
       "      <td>0</td>\n",
       "      <td>1</td>\n",
       "    </tr>\n",
       "    <tr>\n",
       "      <th>1212</th>\n",
       "      <td>ул. Оюна Курседи, 163, Кызыл, Респ. Тува, 667003</td>\n",
       "      <td>51.710831</td>\n",
       "      <td>94.424517</td>\n",
       "      <td>Республиканская больница № 1</td>\n",
       "      <td>17</td>\n",
       "      <td>0</td>\n",
       "      <td>1</td>\n",
       "    </tr>\n",
       "    <tr>\n",
       "      <th>1213</th>\n",
       "      <td>ул. Калинина, 40, Ханты-Мансийск, Ханты-Мансий...</td>\n",
       "      <td>61.008744</td>\n",
       "      <td>69.030407</td>\n",
       "      <td>Окружная клиническая больница</td>\n",
       "      <td>86</td>\n",
       "      <td>0</td>\n",
       "      <td>2</td>\n",
       "    </tr>\n",
       "    <tr>\n",
       "      <th>1214</th>\n",
       "      <td>ул. Мира, 39, Салехард, Ямало-Ненецкий автоном...</td>\n",
       "      <td>66.531457</td>\n",
       "      <td>66.640120</td>\n",
       "      <td>Салехардская окружная клиническая больница</td>\n",
       "      <td>89</td>\n",
       "      <td>0</td>\n",
       "      <td>4</td>\n",
       "    </tr>\n",
       "    <tr>\n",
       "      <th>1215</th>\n",
       "      <td>Россия, Красноярский край, город Норильск, Озё...</td>\n",
       "      <td>69.357947</td>\n",
       "      <td>88.374104</td>\n",
       "      <td>Норильская межрайонная больница №1</td>\n",
       "      <td>24</td>\n",
       "      <td>0</td>\n",
       "      <td>3</td>\n",
       "    </tr>\n",
       "  </tbody>\n",
       "</table>\n",
       "</div>"
      ],
      "text/plain": [
       "                                                    adr        lat  \\\n",
       "1196  Sovetskaya ul., 72, Ремонтненский р-н, с. Ремо...  46.563056   \n",
       "1197             Aniva, Sakhalin Oblast, Russia, 694030  46.720685   \n",
       "1198              ул. Луговая, Симферополь, Крым, 95000  44.961620   \n",
       "1199               ул. Ерошенко, 15, Севастополь, 99000  44.604426   \n",
       "1200         ул. Ленина, 162, Первомайское, Крым, 96301  45.710647   \n",
       "1201                    Тура, Красноярский край, 648000  64.273851   \n",
       "1202  Красноармейская ул. Бодайбо Иркутская обл. Рос...  57.844973   \n",
       "1203  Приисковая ул, д. 17, Могоча, Забайкальский кр...  53.739351   \n",
       "1204             Северобайкальск, Респ. Бурятия, 671700  55.627858   \n",
       "1205  ул. Ленина, 129, Николаевск-на-Амуре, Хабаровс...  53.140000   \n",
       "1206  40, ул. Нагаевская, г. Магадан, Магаданская об...  59.550000   \n",
       "1207  ул. Ленина, 1, Анадырь, Чукотский автономный о...  64.734330   \n",
       "1208         ул. Киевская, 69, Симферополь, Крым, 95000  44.956493   \n",
       "1209  Норильская ул., 12, с. Хатанга, Красноярский к...  71.981908   \n",
       "1210  Коммунистический просп., 140, Горно-Алтайск, Р...  51.959912   \n",
       "1211  ул. Ляпидевского, 2, Барнаул, Алтайский край, ...  53.305294   \n",
       "1212   ул. Оюна Курседи, 163, Кызыл, Респ. Тува, 667003  51.710831   \n",
       "1213  ул. Калинина, 40, Ханты-Мансийск, Ханты-Мансий...  61.008744   \n",
       "1214  ул. Мира, 39, Салехард, Ямало-Ненецкий автоном...  66.531457   \n",
       "1215  Россия, Красноярский край, город Норильск, Озё...  69.357947   \n",
       "\n",
       "             lon                                               name region  \\\n",
       "1196   43.656667               Tsentralnaya Rayonnaya Bolnitsa, Muz     61   \n",
       "1197  142.514276                      Центральная Районная Больница     65   \n",
       "1198   34.134521                  Симферопольская районная больница     91   \n",
       "1199   33.491104                              Городская больница №2     92   \n",
       "1200   33.864203         Первомайская центральная районная больница     91   \n",
       "1201  100.218793                                           Больница     24   \n",
       "1202  114.187826               ОГБУЗ «Районная больница г. Бодайбо»     38   \n",
       "1203  119.777288  Могочинская центральная районная больница, Могоча     75   \n",
       "1204  109.314916                              Станция скорой помощи     03   \n",
       "1205  140.717071                                     Поликлиника №1     27   \n",
       "1206  150.800000                     Магаданская областная больница     49   \n",
       "1207  177.524170                ГБУЗ \" Чукотская Окружная Больница\"     87   \n",
       "1208   34.114485  Республиканская Клиничиская больница им. Н.И. ...     91   \n",
       "1209  102.498053    Таймырская Районная Больница № 1 В С.П. Хатанга     24   \n",
       "1210   85.918509           Горно-алтайская Республиканская Больница     04   \n",
       "1211   83.762069                 КГБУЗ Краевая клиническая больница     22   \n",
       "1212   94.424517                       Республиканская больница № 1     17   \n",
       "1213   69.030407                      Окружная клиническая больница     86   \n",
       "1214   66.640120         Салехардская окружная клиническая больница     89   \n",
       "1215   88.374104                 Норильская межрайонная больница №1     24   \n",
       "\n",
       "      drom_count  drom_count_5km  \n",
       "1196           0               0  \n",
       "1197           0               0  \n",
       "1198           0               0  \n",
       "1199           0               0  \n",
       "1200           0               0  \n",
       "1201           0               1  \n",
       "1202           0               1  \n",
       "1203           0               0  \n",
       "1204           0               0  \n",
       "1205           0               1  \n",
       "1206           0               1  \n",
       "1207           0               1  \n",
       "1208           0               0  \n",
       "1209           0               1  \n",
       "1210           0               0  \n",
       "1211           0               1  \n",
       "1212           0               1  \n",
       "1213           0               2  \n",
       "1214           0               4  \n",
       "1215           0               3  "
      ]
     },
     "execution_count": 295,
     "metadata": {},
     "output_type": "execute_result"
    }
   ],
   "source": [
    "hospitals.tail(20)"
   ]
  },
  {
   "cell_type": "code",
   "execution_count": 296,
   "metadata": {
    "collapsed": true,
    "deletable": true,
    "editable": true
   },
   "outputs": [],
   "source": [
    "hospitals.to_excel('hospitals_do_huya.xlsx')"
   ]
  },
  {
   "cell_type": "code",
   "execution_count": 300,
   "metadata": {
    "collapsed": false,
    "deletable": true,
    "editable": true
   },
   "outputs": [
    {
     "data": {
      "text/plain": [
       "(1216, 7)"
      ]
     },
     "execution_count": 300,
     "metadata": {},
     "output_type": "execute_result"
    }
   ],
   "source": [
    "hospitals.shape"
   ]
  },
  {
   "cell_type": "code",
   "execution_count": null,
   "metadata": {
    "collapsed": true,
    "deletable": true,
    "editable": true
   },
   "outputs": [],
   "source": []
  }
 ],
 "metadata": {
  "kernelspec": {
   "display_name": "Python 3",
   "language": "python",
   "name": "python3"
  },
  "language_info": {
   "codemirror_mode": {
    "name": "ipython",
    "version": 3
   },
   "file_extension": ".py",
   "mimetype": "text/x-python",
   "name": "python",
   "nbconvert_exporter": "python",
   "pygments_lexer": "ipython3",
   "version": "3.5.2"
  }
 },
 "nbformat": 4,
 "nbformat_minor": 2
}

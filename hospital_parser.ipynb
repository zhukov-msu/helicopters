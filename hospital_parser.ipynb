{
 "cells": [
  {
   "cell_type": "code",
   "execution_count": 46,
   "metadata": {
    "collapsed": false,
    "deletable": true,
    "editable": true
   },
   "outputs": [],
   "source": [
    "import requests\n",
    "import re\n",
    "import bs4\n",
    "from bs4 import BeautifulSoup\n",
    "import pandas as pd\n",
    "import time"
   ]
  },
  {
   "cell_type": "code",
   "execution_count": 95,
   "metadata": {
    "collapsed": true
   },
   "outputs": [],
   "source": [
    "import pandas as pd\n",
    "import numpy as np"
   ]
  },
  {
   "cell_type": "code",
   "execution_count": 3,
   "metadata": {
    "collapsed": true,
    "deletable": true,
    "editable": true
   },
   "outputs": [],
   "source": [
    "def html_stripper(text):\n",
    "    return re.sub('<[^<]+?>', '', str(text))"
   ]
  },
  {
   "cell_type": "code",
   "execution_count": 4,
   "metadata": {
    "collapsed": true,
    "deletable": true,
    "editable": true
   },
   "outputs": [],
   "source": [
    "page = 1"
   ]
  },
  {
   "cell_type": "code",
   "execution_count": 5,
   "metadata": {
    "collapsed": false
   },
   "outputs": [],
   "source": [
    "url = 'http://grls.rosminzdrav.ru/Ree_orgCI2.aspx?numDoc=&Name_Org=&region=2000&adr=&OrgOut=2&order=num_doc&orderType=Asc&all=0&datedoc=&CiAcrOrg=0&status=1&except=0&isOld=0&date_doc_old=&num_doc_old=&name_org_old=&adr_old=&pageNum={}'"
   ]
  },
  {
   "cell_type": "code",
   "execution_count": 74,
   "metadata": {
    "collapsed": true
   },
   "outputs": [],
   "source": [
    "url_hosp = 'http://grls.rosminzdrav.ru/'"
   ]
  },
  {
   "cell_type": "code",
   "execution_count": 124,
   "metadata": {
    "collapsed": false
   },
   "outputs": [],
   "source": [
    "import tqdm"
   ]
  },
  {
   "cell_type": "code",
   "execution_count": 128,
   "metadata": {
    "collapsed": true
   },
   "outputs": [],
   "source": [
    "from time import sleep"
   ]
  },
  {
   "cell_type": "code",
   "execution_count": 127,
   "metadata": {
    "collapsed": false
   },
   "outputs": [
    {
     "data": {
      "text/plain": [
       "10"
      ]
     },
     "execution_count": 127,
     "metadata": {},
     "output_type": "execute_result"
    }
   ],
   "source": []
  },
  {
   "cell_type": "code",
   "execution_count": 130,
   "metadata": {
    "collapsed": false,
    "scrolled": true
   },
   "outputs": [
    {
     "name": "stderr",
     "output_type": "stream",
     "text": [
      "\n",
      "  0%|                                                             | 0/75 [00:00<?, ?it/s]\n",
      " 12%|██████▎                                              | 9/75 [01:46<13:04, 11.88s/it]"
     ]
    },
    {
     "name": "stdout",
     "output_type": "stream",
     "text": [
      "HTTPConnectionPool(host='grls.rosminzdrav.ru', port=80): Max retries exceeded with url: /CIAcrOrgTrial.aspx?ID=819C178A-F6F2-4EC4-97FC-ED4365569E4A (Caused by NewConnectionError('<requests.packages.urllib3.connection.HTTPConnection object at 0x00000212BF9942E8>: Failed to establish a new connection: [WinError 10060] Попытка установить соединение была безуспешной, т.к. от другого компьютера за требуемое время не получен нужный отклик, или было разорвано уже установленное соединение из-за неверного отклика уже подключенного компьютера',))\n"
     ]
    },
    {
     "name": "stderr",
     "output_type": "stream",
     "text": [
      " 37%|███████████████████▍                                | 28/75 [07:28<13:39, 17.45s/it]"
     ]
    },
    {
     "name": "stdout",
     "output_type": "stream",
     "text": [
      "HTTPConnectionPool(host='grls.rosminzdrav.ru', port=80): Max retries exceeded with url: /CIAcrOrgTrial.aspx?ID=84892F1F-99F2-407F-B2BD-346133F7EF2D (Caused by NewConnectionError('<requests.packages.urllib3.connection.HTTPConnection object at 0x00000212C0093C88>: Failed to establish a new connection: [WinError 10060] Попытка установить соединение была безуспешной, т.к. от другого компьютера за требуемое время не получен нужный отклик, или было разорвано уже установленное соединение из-за неверного отклика уже подключенного компьютера',))\n"
     ]
    },
    {
     "name": "stderr",
     "output_type": "stream",
     "text": [
      " 95%|█████████████████████████████████████████████████▏  | 71/75 [17:31<00:51, 12.80s/it]"
     ]
    },
    {
     "name": "stdout",
     "output_type": "stream",
     "text": [
      "HTTPConnectionPool(host='grls.rosminzdrav.ru', port=80): Max retries exceeded with url: /CIAcrOrgTrial.aspx?ID=FA7D5F36-1819-4C1A-ABC6-A7040DC4CEE2 (Caused by NewConnectionError('<requests.packages.urllib3.connection.HTTPConnection object at 0x00000212C04BA668>: Failed to establish a new connection: [WinError 10060] Попытка установить соединение была безуспешной, т.к. от другого компьютера за требуемое время не получен нужный отклик, или было разорвано уже установленное соединение из-за неверного отклика уже подключенного компьютера',))\n"
     ]
    },
    {
     "name": "stderr",
     "output_type": "stream",
     "text": [
      "100%|████████████████████████████████████████████████████| 75/75 [18:52<00:00, 15.01s/it]\n"
     ]
    }
   ],
   "source": [
    "df_list = []\n",
    "bad_links = []\n",
    "for page_id in tqdm.tqdm(range(1,76)):\n",
    "    page = requests.get(url.format(page_id))\n",
    "    page = page.content\n",
    "    page = BeautifulSoup(page, 'lxml')\n",
    "    table = page.findAll('table', attrs = {\"id\":\"ctl00_plate_gr\"})[0]\n",
    "    table_df = pd.read_html(str(table))[0]\n",
    "#     table_df['types'] = np.nan\n",
    "    table_df.columns = table_df.ix[0]\n",
    "    table_df = table_df.drop(0).reset_index()\n",
    "    del table_df['index']\n",
    "    links = []\n",
    "    for i, tr in enumerate(table):\n",
    "        if '<th' in str(tr) or isinstance(tr, bs4.element.NavigableString):\n",
    "            continue\n",
    "        else:\n",
    "            for td in tr:\n",
    "                if not (isinstance(td, bs4.element.NavigableString)):\n",
    "                    re_links = re.findall(r'window.location.href=\\'(.+?)\\'',str(td))\n",
    "                    if re_links:\n",
    "                        links += [re_links[0]]\n",
    "                        break\n",
    "    for i, link in enumerate(links):\n",
    "        try:\n",
    "            link_hosp = url_hosp + link\n",
    "            hosp_page = requests.get(link_hosp)\n",
    "            hosp_page = hosp_page.content\n",
    "            hosp_page = BeautifulSoup(hosp_page, 'lxml')\n",
    "            table_profiles = hosp_page.findAll('table', attrs = {\"id\":\"ctl00_plate_grdDetailShort\"})\n",
    "            if table_profiles:\n",
    "                table_profiles = table_profiles[0]\n",
    "                types_list = list(pd.read_html(str(table_profiles))[0][0])[1:]\n",
    "                table_df.set_value(i, 'types', ';'.join(types_list))\n",
    "            else:\n",
    "                bad_links += [link_hosp]\n",
    "        except Exception as e:\n",
    "            print(e)\n",
    "            sleep(10)\n",
    "            continue\n",
    "    df_list += [table_df]\n",
    "    "
   ]
  },
  {
   "cell_type": "code",
   "execution_count": 132,
   "metadata": {
    "collapsed": false
   },
   "outputs": [
    {
     "data": {
      "text/plain": [
       "75"
      ]
     },
     "execution_count": 132,
     "metadata": {},
     "output_type": "execute_result"
    }
   ],
   "source": [
    "len(df_list)"
   ]
  },
  {
   "cell_type": "code",
   "execution_count": 170,
   "metadata": {
    "collapsed": false
   },
   "outputs": [],
   "source": [
    "hosp_df = pd.concat(df_list, ignore_index=True)"
   ]
  },
  {
   "cell_type": "code",
   "execution_count": 171,
   "metadata": {
    "collapsed": false
   },
   "outputs": [],
   "source": [
    "hosp_df.to_csv('hosp_data.csv', index='False', header=True, sep='\\t')\n",
    "hosp_df.to_excel('hosp_data.xlsx', index='False', header=True)"
   ]
  },
  {
   "cell_type": "code",
   "execution_count": 174,
   "metadata": {
    "collapsed": false
   },
   "outputs": [],
   "source": [
    "for t in desease_types:\n",
    "    hosp_df[t] = False"
   ]
  },
  {
   "cell_type": "code",
   "execution_count": 146,
   "metadata": {
    "collapsed": false
   },
   "outputs": [],
   "source": [
    "desease_types = set()\n",
    "for i, t in enumerate(list(hosp_df.types)):\n",
    "    if isinstance(t, str):\n",
    "        t = t.split(';')\n",
    "        for elem in t:\n",
    "            desease_types.add(elem)"
   ]
  },
  {
   "cell_type": "code",
   "execution_count": 175,
   "metadata": {
    "collapsed": false
   },
   "outputs": [],
   "source": [
    "def fun(x):\n",
    "    if isinstance(x['types'], str):\n",
    "        types = x['types'].split(';')\n",
    "        x[types] = 1\n",
    "    return x"
   ]
  },
  {
   "cell_type": "code",
   "execution_count": 176,
   "metadata": {
    "collapsed": false
   },
   "outputs": [],
   "source": [
    "hosp_df_bin = hosp_df.apply(lambda x: fun(x), axis=1)"
   ]
  },
  {
   "cell_type": "code",
   "execution_count": 177,
   "metadata": {
    "collapsed": false
   },
   "outputs": [],
   "source": [
    "hosp_df_bin = hosp_df_bin.drop(['types'], axis = 1)"
   ]
  },
  {
   "cell_type": "code",
   "execution_count": 172,
   "metadata": {
    "collapsed": true
   },
   "outputs": [],
   "source": [
    "hosp_df_bin.to_excel('hosp_data_bin.xlsx', index='False', header=True)"
   ]
  },
  {
   "cell_type": "code",
   "execution_count": 6,
   "metadata": {
    "collapsed": false,
    "deletable": true,
    "editable": true
   },
   "outputs": [],
   "source": [
    "page = requests.get(url.format(page_id))\n",
    "page = page.content\n",
    "page = BeautifulSoup(page, 'lxml')"
   ]
  },
  {
   "cell_type": "code",
   "execution_count": 8,
   "metadata": {
    "collapsed": true
   },
   "outputs": [],
   "source": [
    "table = page.findAll('table', attrs = {\"id\":\"ctl00_plate_gr\"})[0]"
   ]
  },
  {
   "cell_type": "code",
   "execution_count": 17,
   "metadata": {
    "collapsed": false
   },
   "outputs": [],
   "source": [
    "table_df = pd.read_html(str(table))[0]"
   ]
  },
  {
   "cell_type": "code",
   "execution_count": 102,
   "metadata": {
    "collapsed": false
   },
   "outputs": [],
   "source": [
    "table_df.columns = table_df.ix[0]\n",
    "table_df = table_df.drop(0).reset_index()\n",
    "del table_df['index']"
   ]
  },
  {
   "cell_type": "code",
   "execution_count": 104,
   "metadata": {
    "collapsed": false
   },
   "outputs": [],
   "source": [
    "table_df['types'] = np.nan"
   ]
  },
  {
   "cell_type": "code",
   "execution_count": 73,
   "metadata": {
    "collapsed": false
   },
   "outputs": [
    {
     "name": "stdout",
     "output_type": "stream",
     "text": [
      "['CIAcrOrgTrial.aspx?ID=65A3A2ED-8233-4697-AB5F-E3F71ED9D124', 'CIAcrOrgTrial.aspx?ID=E3CED3C1-9BFE-4BC8-A996-E1FCAB15AC49', 'CIAcrOrgTrial.aspx?ID=147850CA-5024-42DC-B1D2-12A67933A43F', 'CIAcrOrgTrial.aspx?ID=7D3C18DA-BF2A-4217-A92B-839825FCB650', 'CIAcrOrgTrial.aspx?ID=89DD7AD7-FF8D-4AE9-BA6F-CC8C40E7FA2F', 'CIAcrOrgTrial.aspx?ID=0CB6448A-EB9B-49B4-B361-7E67172C81F3', 'CIAcrOrgTrial.aspx?ID=3ACE69F9-37F8-4233-B707-8DE70A36AA9A', 'CIAcrOrgTrial.aspx?ID=A41C582A-5E38-4529-B6D3-C8F7ABAA2E99', 'CIAcrOrgTrial.aspx?ID=EE5B68D9-B18C-4576-AC14-832AC34CB66C', 'CIAcrOrgTrial.aspx?ID=D233D951-9D81-4D82-BD29-3A6F89AE5822', 'CIAcrOrgTrial.aspx?ID=EBF359A7-8F13-4B2E-9161-E75963E28CDA', 'CIAcrOrgTrial.aspx?ID=5C2DAF0D-1DFC-4A53-8F40-BD1D1BC934F1', 'CIAcrOrgTrial.aspx?ID=8A51797A-EC54-4FCB-993D-C468200DFC86', 'CIAcrOrgTrial.aspx?ID=42DEDA9B-2C2B-4D36-9621-B47D8DF56BE5', 'CIAcrOrgTrial.aspx?ID=7CF24AF6-56DC-4CEB-A4F9-B85A75A00D3C', 'CIAcrOrgTrial.aspx?ID=305BAA75-8CD2-41AE-B3F3-D55A86B39374', 'CIAcrOrgTrial.aspx?ID=860B37C3-993F-4FBA-B53B-4A05EBFCF65A']\n"
     ]
    }
   ],
   "source": [
    "links = []\n",
    "for i, tr in enumerate(table):\n",
    "    if '<th' in str(tr) or isinstance(tr, bs4.element.NavigableString):\n",
    "        continue\n",
    "    else:\n",
    "        for td in tr:\n",
    "            if not (isinstance(td, bs4.element.NavigableString)):\n",
    "                re_links = re.findall(r'window.location.href=\\'(.+?)\\'',str(td))\n",
    "                if re_links:\n",
    "                    links += [re_links[0]]\n",
    "                    break\n",
    "print(links)"
   ]
  },
  {
   "cell_type": "code",
   "execution_count": 79,
   "metadata": {
    "collapsed": true
   },
   "outputs": [],
   "source": [
    "for link in links:\n",
    "    link_hosp = url_hosp + link\n",
    "    hosp_page = requests.get(link_hosp)\n",
    "    hosp_page = hosp_page.content\n",
    "    hosp_page = BeautifulSoup(hosp_page, 'lxml')\n",
    "    break"
   ]
  },
  {
   "cell_type": "code",
   "execution_count": 80,
   "metadata": {
    "collapsed": false
   },
   "outputs": [
    {
     "data": {
      "text/plain": [
       "'http://grls.rosminzdrav.ru/CIAcrOrgTrial.aspx?ID=65A3A2ED-8233-4697-AB5F-E3F71ED9D124'"
      ]
     },
     "execution_count": 80,
     "metadata": {},
     "output_type": "execute_result"
    }
   ],
   "source": [
    "link_hosp"
   ]
  },
  {
   "cell_type": "code",
   "execution_count": 82,
   "metadata": {
    "collapsed": false
   },
   "outputs": [],
   "source": [
    "table_profiles = hosp_page.findAll('table', attrs = {\"id\":\"ctl00_plate_grdDetailShort\"})[0]"
   ]
  },
  {
   "cell_type": "code",
   "execution_count": 107,
   "metadata": {
    "collapsed": false
   },
   "outputs": [],
   "source": [
    "test = list(pd.read_html(str(table_profiles))[0][0])"
   ]
  },
  {
   "cell_type": "code",
   "execution_count": 109,
   "metadata": {
    "collapsed": false
   },
   "outputs": [
    {
     "data": {
      "text/plain": [
       "'Профили мед. деятельности;Акушерство и гинекология;Анастезиология и реаниматология;Гематология;Дерматология;Детская онкология;Детская хирургия;Неонатология;Онкология;Ортопедия;Педиатрия;Психиатрия;ТЕРАПИЯ (ОБЩАЯ);Урология;Хирургия'"
      ]
     },
     "execution_count": 109,
     "metadata": {},
     "output_type": "execute_result"
    }
   ],
   "source": [
    "';'.join(test)"
   ]
  },
  {
   "cell_type": "code",
   "execution_count": 14,
   "metadata": {
    "collapsed": false,
    "deletable": true,
    "editable": true
   },
   "outputs": [
    {
     "name": "stdout",
     "output_type": "stream",
     "text": [
      "['24524']\n"
     ]
    }
   ],
   "source": [
    "links = []\n",
    "n = 10 # число страниц\n",
    "for name, url in districts.items():\n",
    "    for page in range(1, n):\n",
    "        \n",
    "        page_url =  url.format(page)\n",
    "\n",
    "        search_page = requests.get(page_url)\n",
    "        search_page = search_page.content\n",
    "        search_page = BeautifulSoup(search_page, 'lxml')\n",
    "        count_pages = search_page.findAll('div', attrs = {\"class\":\"serp-above__count\"})\n",
    "        print(re.findall('[0-9]+', str(count_pages)))\n",
    "        break\n",
    "\n",
    "        flat_urls = search_page.findAll('div', attrs = {'ng-class':\"{'serp-item_removed': offer.remove.state, 'serp-item_popup-opened': isPopupOpen}\"})\n",
    "        flat_urls = re.split('http://www.cian.ru/sale/flat/|/\" ng-class=\"', str(flat_urls))\n",
    "\n",
    "        for link in flat_urls:\n",
    "            if link.isdigit():\n",
    "                links.append(link)"
   ]
  }
 ],
 "metadata": {
  "anaconda-cloud": {},
  "kernelspec": {
   "display_name": "Python 3",
   "language": "python",
   "name": "python3"
  },
  "language_info": {
   "codemirror_mode": {
    "name": "ipython",
    "version": 3
   },
   "file_extension": ".py",
   "mimetype": "text/x-python",
   "name": "python",
   "nbconvert_exporter": "python",
   "pygments_lexer": "ipython3",
   "version": "3.6.0"
  }
 },
 "nbformat": 4,
 "nbformat_minor": 0
}
